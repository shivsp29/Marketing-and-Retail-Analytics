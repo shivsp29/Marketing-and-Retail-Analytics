{
 "cells": [
  {
   "cell_type": "markdown",
   "id": "20190bdc",
   "metadata": {},
   "source": [
    "# Marketing and Retail Analytics - Capstone project"
   ]
  },
  {
   "cell_type": "markdown",
   "id": "9c13cc95",
   "metadata": {},
   "source": [
    "### Problem Statement - I"
   ]
  },
  {
   "cell_type": "markdown",
   "id": "3a9c6ece",
   "metadata": {},
   "source": [
    "In the recent past, e-commerce companies have emerged and flourished in the industry. They offer the convenience to order from a wide variety of options from the comfort of one’s home. But how do they offer these “wide variety of options or products”? To be able to meet the demands of the customers, any e-commerce company would obviously need to store tons and tons of products in warehouses. Now, some of these warehoused products might be fast-moving products which sell very quickly and some others might be slow-moving. Each of the products being stored incurs a cost to the company in terms of space and maintenance. Since storing these products obviously add to the costs that the company incurs, it is absolutely necessary for the organisations to plan their inventory well.\n",
    "\n",
    " \n",
    "\n",
    "Now, OList is one such e-commerce company that has faced some losses recently and they want to manage their inventory very well so as to reduce any unnecessary costs that they might be bearing. In this assignment, you have to manage the inventory cost of this e-commerce company OList. You need to identify top products that contribute to the revenue and also use market basket analysis to analyse the purchase behaviour of individual customers to estimate with relative certainty, what items are more likely to be purchased individually or in combination with some other products."
   ]
  },
  {
   "cell_type": "markdown",
   "id": "f3077546",
   "metadata": {},
   "source": [
    "### Project Pipeline"
   ]
  },
  {
   "cell_type": "markdown",
   "id": "f3e3d8a6",
   "metadata": {},
   "source": [
    "##### Data exploration and cleaning:\n",
    "   Identify missing and duplicate values in each column and treat them accordingly. Also, treat any and all data quality issues associated with the dataset.\n",
    "##### Data visualisation: \n",
    "   Create appropriate visualisations to identify the most ordered products by quantity and revenue.\n",
    "##### Market basket analysis: \n",
    "   Identify combinations of product categories that are ordered frequently and visualise them as required. This can be done by creating a simple matrix with product categories in the rows and columns and then checking which of the pairs show associations."
   ]
  },
  {
   "cell_type": "code",
   "execution_count": 1,
   "id": "5082160c",
   "metadata": {},
   "outputs": [],
   "source": [
    "# Importing all the libraries\n",
    "\n",
    "import numpy as np\n",
    "import pandas as pd\n",
    "\n",
    "import seaborn as sns\n",
    "import matplotlib.pyplot as plt\n",
    "\n",
    "import warnings\n",
    "warnings.filterwarnings(\"ignore\")"
   ]
  },
  {
   "cell_type": "markdown",
   "id": "d01f94b7",
   "metadata": {},
   "source": [
    "# Step - 1"
   ]
  },
  {
   "cell_type": "markdown",
   "id": "05f99202",
   "metadata": {},
   "source": [
    "## Need to Read the data set which has been provided to us\n",
    "   As there are multiple sheets in the excel file so we need to import all the worksheets one by one\n",
    "   \n",
    "### 1. Orders"
   ]
  },
  {
   "cell_type": "code",
   "execution_count": 2,
   "id": "6bb0349b",
   "metadata": {},
   "outputs": [
    {
     "data": {
      "text/html": [
       "<div>\n",
       "<style scoped>\n",
       "    .dataframe tbody tr th:only-of-type {\n",
       "        vertical-align: middle;\n",
       "    }\n",
       "\n",
       "    .dataframe tbody tr th {\n",
       "        vertical-align: top;\n",
       "    }\n",
       "\n",
       "    .dataframe thead th {\n",
       "        text-align: right;\n",
       "    }\n",
       "</style>\n",
       "<table border=\"1\" class=\"dataframe\">\n",
       "  <thead>\n",
       "    <tr style=\"text-align: right;\">\n",
       "      <th></th>\n",
       "      <th>order_id</th>\n",
       "      <th>customer_id</th>\n",
       "      <th>order_status</th>\n",
       "      <th>order_purchase_timestamp</th>\n",
       "      <th>order_approved_at</th>\n",
       "      <th>order_delivered_timestamp</th>\n",
       "      <th>order_estimated_delivery_date</th>\n",
       "    </tr>\n",
       "  </thead>\n",
       "  <tbody>\n",
       "    <tr>\n",
       "      <th>0</th>\n",
       "      <td>e481f51cbdc54678b7cc49136f2d6af7</td>\n",
       "      <td>7c396fd4830fd04220f754e42b4e5bff</td>\n",
       "      <td>delivered</td>\n",
       "      <td>2017-10-02 10:56:33</td>\n",
       "      <td>2017-10-02 11:07:15</td>\n",
       "      <td>2017-10-10 21:25:13</td>\n",
       "      <td>2017-10-18</td>\n",
       "    </tr>\n",
       "    <tr>\n",
       "      <th>1</th>\n",
       "      <td>53cdb2fc8bc7dce0b6741e2150273451</td>\n",
       "      <td>af07308b275d755c9edb36a90c618231</td>\n",
       "      <td>delivered</td>\n",
       "      <td>2018-07-24 20:41:37</td>\n",
       "      <td>2018-07-26 03:24:27</td>\n",
       "      <td>2018-08-07 15:27:45</td>\n",
       "      <td>2018-08-13</td>\n",
       "    </tr>\n",
       "    <tr>\n",
       "      <th>2</th>\n",
       "      <td>47770eb9100c2d0c44946d9cf07ec65d</td>\n",
       "      <td>3a653a41f6f9fc3d2a113cf8398680e8</td>\n",
       "      <td>delivered</td>\n",
       "      <td>2018-08-08 08:38:49</td>\n",
       "      <td>2018-08-08 08:55:23</td>\n",
       "      <td>2018-08-17 18:06:29</td>\n",
       "      <td>2018-09-04</td>\n",
       "    </tr>\n",
       "    <tr>\n",
       "      <th>3</th>\n",
       "      <td>949d5b44dbf5de918fe9c16f97b45f8a</td>\n",
       "      <td>7c142cf63193a1473d2e66489a9ae977</td>\n",
       "      <td>delivered</td>\n",
       "      <td>2017-11-18 19:28:06</td>\n",
       "      <td>2017-11-18 19:45:59</td>\n",
       "      <td>2017-12-02 00:28:42</td>\n",
       "      <td>2017-12-15</td>\n",
       "    </tr>\n",
       "    <tr>\n",
       "      <th>4</th>\n",
       "      <td>ad21c59c0840e6cb83a9ceb5573f8159</td>\n",
       "      <td>72632f0f9dd73dfee390c9b22eb56dd6</td>\n",
       "      <td>delivered</td>\n",
       "      <td>2018-02-13 21:18:39</td>\n",
       "      <td>2018-02-13 22:20:29</td>\n",
       "      <td>2018-02-16 18:17:02</td>\n",
       "      <td>2018-02-26</td>\n",
       "    </tr>\n",
       "  </tbody>\n",
       "</table>\n",
       "</div>"
      ],
      "text/plain": [
       "                           order_id                       customer_id  \\\n",
       "0  e481f51cbdc54678b7cc49136f2d6af7  7c396fd4830fd04220f754e42b4e5bff   \n",
       "1  53cdb2fc8bc7dce0b6741e2150273451  af07308b275d755c9edb36a90c618231   \n",
       "2  47770eb9100c2d0c44946d9cf07ec65d  3a653a41f6f9fc3d2a113cf8398680e8   \n",
       "3  949d5b44dbf5de918fe9c16f97b45f8a  7c142cf63193a1473d2e66489a9ae977   \n",
       "4  ad21c59c0840e6cb83a9ceb5573f8159  72632f0f9dd73dfee390c9b22eb56dd6   \n",
       "\n",
       "  order_status order_purchase_timestamp   order_approved_at  \\\n",
       "0    delivered      2017-10-02 10:56:33 2017-10-02 11:07:15   \n",
       "1    delivered      2018-07-24 20:41:37 2018-07-26 03:24:27   \n",
       "2    delivered      2018-08-08 08:38:49 2018-08-08 08:55:23   \n",
       "3    delivered      2017-11-18 19:28:06 2017-11-18 19:45:59   \n",
       "4    delivered      2018-02-13 21:18:39 2018-02-13 22:20:29   \n",
       "\n",
       "  order_delivered_timestamp order_estimated_delivery_date  \n",
       "0       2017-10-10 21:25:13                    2017-10-18  \n",
       "1       2018-08-07 15:27:45                    2018-08-13  \n",
       "2       2018-08-17 18:06:29                    2018-09-04  \n",
       "3       2017-12-02 00:28:42                    2017-12-15  \n",
       "4       2018-02-16 18:17:02                    2018-02-26  "
      ]
     },
     "execution_count": 2,
     "metadata": {},
     "output_type": "execute_result"
    }
   ],
   "source": [
    "Orders_sheet = pd.read_excel(r\"S:\\UPGRAD PG\\Shivkumar Final Capstone\\Retail_dataset.xlsx\", sheet_name = \"orders\")\n",
    "Orders_sheet.head()"
   ]
  },
  {
   "cell_type": "code",
   "execution_count": 3,
   "id": "9d08e4ca",
   "metadata": {},
   "outputs": [
    {
     "data": {
      "text/plain": [
       "(99441, 7)"
      ]
     },
     "execution_count": 3,
     "metadata": {},
     "output_type": "execute_result"
    }
   ],
   "source": [
    "Orders_sheet.shape"
   ]
  },
  {
   "cell_type": "code",
   "execution_count": 4,
   "id": "36693bb5",
   "metadata": {},
   "outputs": [
    {
     "data": {
      "text/plain": [
       "array(['delivered', 'invoiced', 'shipped', 'processing', 'unavailable',\n",
       "       'canceled', 'created', 'approved'], dtype=object)"
      ]
     },
     "execution_count": 4,
     "metadata": {},
     "output_type": "execute_result"
    }
   ],
   "source": [
    "Orders_sheet[\"order_status\"].unique() # Checking the types of status in order_status"
   ]
  },
  {
   "cell_type": "code",
   "execution_count": 5,
   "id": "5664b5ae",
   "metadata": {},
   "outputs": [],
   "source": [
    "# As we have been told to consider only order status having Delivered"
   ]
  },
  {
   "cell_type": "code",
   "execution_count": 6,
   "id": "6123be41",
   "metadata": {},
   "outputs": [
    {
     "data": {
      "text/plain": [
       "96478"
      ]
     },
     "execution_count": 6,
     "metadata": {},
     "output_type": "execute_result"
    }
   ],
   "source": [
    "#Checking the total number of 'delivered' orders\n",
    "\n",
    "(Orders_sheet.order_status==\"delivered\").sum()"
   ]
  },
  {
   "cell_type": "code",
   "execution_count": 7,
   "id": "7f65ac49",
   "metadata": {},
   "outputs": [
    {
     "data": {
      "text/html": [
       "<div>\n",
       "<style scoped>\n",
       "    .dataframe tbody tr th:only-of-type {\n",
       "        vertical-align: middle;\n",
       "    }\n",
       "\n",
       "    .dataframe tbody tr th {\n",
       "        vertical-align: top;\n",
       "    }\n",
       "\n",
       "    .dataframe thead th {\n",
       "        text-align: right;\n",
       "    }\n",
       "</style>\n",
       "<table border=\"1\" class=\"dataframe\">\n",
       "  <thead>\n",
       "    <tr style=\"text-align: right;\">\n",
       "      <th></th>\n",
       "      <th>order_id</th>\n",
       "      <th>customer_id</th>\n",
       "      <th>order_status</th>\n",
       "      <th>order_purchase_timestamp</th>\n",
       "      <th>order_approved_at</th>\n",
       "      <th>order_delivered_timestamp</th>\n",
       "      <th>order_estimated_delivery_date</th>\n",
       "    </tr>\n",
       "  </thead>\n",
       "  <tbody>\n",
       "    <tr>\n",
       "      <th>0</th>\n",
       "      <td>e481f51cbdc54678b7cc49136f2d6af7</td>\n",
       "      <td>7c396fd4830fd04220f754e42b4e5bff</td>\n",
       "      <td>delivered</td>\n",
       "      <td>2017-10-02 10:56:33</td>\n",
       "      <td>2017-10-02 11:07:15</td>\n",
       "      <td>2017-10-10 21:25:13</td>\n",
       "      <td>2017-10-18</td>\n",
       "    </tr>\n",
       "    <tr>\n",
       "      <th>1</th>\n",
       "      <td>53cdb2fc8bc7dce0b6741e2150273451</td>\n",
       "      <td>af07308b275d755c9edb36a90c618231</td>\n",
       "      <td>delivered</td>\n",
       "      <td>2018-07-24 20:41:37</td>\n",
       "      <td>2018-07-26 03:24:27</td>\n",
       "      <td>2018-08-07 15:27:45</td>\n",
       "      <td>2018-08-13</td>\n",
       "    </tr>\n",
       "    <tr>\n",
       "      <th>2</th>\n",
       "      <td>47770eb9100c2d0c44946d9cf07ec65d</td>\n",
       "      <td>3a653a41f6f9fc3d2a113cf8398680e8</td>\n",
       "      <td>delivered</td>\n",
       "      <td>2018-08-08 08:38:49</td>\n",
       "      <td>2018-08-08 08:55:23</td>\n",
       "      <td>2018-08-17 18:06:29</td>\n",
       "      <td>2018-09-04</td>\n",
       "    </tr>\n",
       "    <tr>\n",
       "      <th>3</th>\n",
       "      <td>949d5b44dbf5de918fe9c16f97b45f8a</td>\n",
       "      <td>7c142cf63193a1473d2e66489a9ae977</td>\n",
       "      <td>delivered</td>\n",
       "      <td>2017-11-18 19:28:06</td>\n",
       "      <td>2017-11-18 19:45:59</td>\n",
       "      <td>2017-12-02 00:28:42</td>\n",
       "      <td>2017-12-15</td>\n",
       "    </tr>\n",
       "    <tr>\n",
       "      <th>4</th>\n",
       "      <td>ad21c59c0840e6cb83a9ceb5573f8159</td>\n",
       "      <td>72632f0f9dd73dfee390c9b22eb56dd6</td>\n",
       "      <td>delivered</td>\n",
       "      <td>2018-02-13 21:18:39</td>\n",
       "      <td>2018-02-13 22:20:29</td>\n",
       "      <td>2018-02-16 18:17:02</td>\n",
       "      <td>2018-02-26</td>\n",
       "    </tr>\n",
       "  </tbody>\n",
       "</table>\n",
       "</div>"
      ],
      "text/plain": [
       "                           order_id                       customer_id  \\\n",
       "0  e481f51cbdc54678b7cc49136f2d6af7  7c396fd4830fd04220f754e42b4e5bff   \n",
       "1  53cdb2fc8bc7dce0b6741e2150273451  af07308b275d755c9edb36a90c618231   \n",
       "2  47770eb9100c2d0c44946d9cf07ec65d  3a653a41f6f9fc3d2a113cf8398680e8   \n",
       "3  949d5b44dbf5de918fe9c16f97b45f8a  7c142cf63193a1473d2e66489a9ae977   \n",
       "4  ad21c59c0840e6cb83a9ceb5573f8159  72632f0f9dd73dfee390c9b22eb56dd6   \n",
       "\n",
       "  order_status order_purchase_timestamp   order_approved_at  \\\n",
       "0    delivered      2017-10-02 10:56:33 2017-10-02 11:07:15   \n",
       "1    delivered      2018-07-24 20:41:37 2018-07-26 03:24:27   \n",
       "2    delivered      2018-08-08 08:38:49 2018-08-08 08:55:23   \n",
       "3    delivered      2017-11-18 19:28:06 2017-11-18 19:45:59   \n",
       "4    delivered      2018-02-13 21:18:39 2018-02-13 22:20:29   \n",
       "\n",
       "  order_delivered_timestamp order_estimated_delivery_date  \n",
       "0       2017-10-10 21:25:13                    2017-10-18  \n",
       "1       2018-08-07 15:27:45                    2018-08-13  \n",
       "2       2018-08-17 18:06:29                    2018-09-04  \n",
       "3       2017-12-02 00:28:42                    2017-12-15  \n",
       "4       2018-02-16 18:17:02                    2018-02-26  "
      ]
     },
     "execution_count": 7,
     "metadata": {},
     "output_type": "execute_result"
    }
   ],
   "source": [
    "#Now we need to convert the Orders_sheet dataframe with order_status as 'delivered'.\n",
    "\n",
    "Orders_sheet = Orders_sheet[Orders_sheet.order_status==\"delivered\"]\n",
    "Orders_sheet.head()"
   ]
  },
  {
   "cell_type": "code",
   "execution_count": 8,
   "id": "95351916",
   "metadata": {},
   "outputs": [
    {
     "data": {
      "text/plain": [
       "(96478, 7)"
      ]
     },
     "execution_count": 8,
     "metadata": {},
     "output_type": "execute_result"
    }
   ],
   "source": [
    "Orders_sheet.shape"
   ]
  },
  {
   "cell_type": "code",
   "execution_count": 9,
   "id": "cf741abc",
   "metadata": {},
   "outputs": [
    {
     "data": {
      "text/plain": [
       "array(['delivered'], dtype=object)"
      ]
     },
     "execution_count": 9,
     "metadata": {},
     "output_type": "execute_result"
    }
   ],
   "source": [
    "# So now we have a dataframe named Order_sheet having order status as Delivered, Lets confirm it.\n",
    "Orders_sheet[\"order_status\"].unique()"
   ]
  },
  {
   "cell_type": "code",
   "execution_count": 10,
   "id": "5221cd0b",
   "metadata": {},
   "outputs": [
    {
     "data": {
      "text/plain": [
       "0"
      ]
     },
     "execution_count": 10,
     "metadata": {},
     "output_type": "execute_result"
    }
   ],
   "source": [
    "# Checking if order_id has any Duplicates and Null values\n",
    "Orders_sheet[\"order_id\"].duplicated().sum()"
   ]
  },
  {
   "cell_type": "code",
   "execution_count": 11,
   "id": "af2131d8",
   "metadata": {},
   "outputs": [
    {
     "data": {
      "text/plain": [
       "order_approved_at                14\n",
       "order_delivered_timestamp         8\n",
       "order_id                          0\n",
       "customer_id                       0\n",
       "order_status                      0\n",
       "order_purchase_timestamp          0\n",
       "order_estimated_delivery_date     0\n",
       "dtype: int64"
      ]
     },
     "execution_count": 11,
     "metadata": {},
     "output_type": "execute_result"
    }
   ],
   "source": [
    "#Checking missing values.\n",
    "\n",
    "Orders_sheet.isnull().sum().sort_values(ascending=False)"
   ]
  },
  {
   "cell_type": "code",
   "execution_count": 12,
   "id": "3fc7b43a",
   "metadata": {},
   "outputs": [],
   "source": [
    "#Replacing the values of order_approved_at with order_purchase_timestamp\n",
    "\n",
    "Orders_sheet[\"order_approved_at\"].fillna(Orders_sheet[\"order_purchase_timestamp\"],inplace=True)\n",
    "\n",
    "#Replacing the values of order_delivered_timestamp with order_estimated_delivery_date\n",
    "\n",
    "Orders_sheet[\"order_delivered_timestamp\"].fillna(Orders_sheet[\"order_estimated_delivery_date\"], inplace=True)"
   ]
  },
  {
   "cell_type": "code",
   "execution_count": 13,
   "id": "d388ff2c",
   "metadata": {},
   "outputs": [
    {
     "data": {
      "text/plain": [
       "order_id                         0\n",
       "customer_id                      0\n",
       "order_status                     0\n",
       "order_purchase_timestamp         0\n",
       "order_approved_at                0\n",
       "order_delivered_timestamp        0\n",
       "order_estimated_delivery_date    0\n",
       "dtype: int64"
      ]
     },
     "execution_count": 13,
     "metadata": {},
     "output_type": "execute_result"
    }
   ],
   "source": [
    "#Checking for missing values again to confirm no missing values.\n",
    "\n",
    "Orders_sheet.isnull().sum().sort_values(ascending=False)"
   ]
  },
  {
   "cell_type": "markdown",
   "id": "40601e61",
   "metadata": {},
   "source": [
    "#### So now we can see that all null or missing values have been replaced sucessfully\n",
    " Now we need to do same steps for all other work sheets "
   ]
  },
  {
   "cell_type": "markdown",
   "id": "bb93f414",
   "metadata": {},
   "source": [
    "### 2. Order_items"
   ]
  },
  {
   "cell_type": "code",
   "execution_count": 14,
   "id": "4f7ae572",
   "metadata": {},
   "outputs": [
    {
     "data": {
      "text/html": [
       "<div>\n",
       "<style scoped>\n",
       "    .dataframe tbody tr th:only-of-type {\n",
       "        vertical-align: middle;\n",
       "    }\n",
       "\n",
       "    .dataframe tbody tr th {\n",
       "        vertical-align: top;\n",
       "    }\n",
       "\n",
       "    .dataframe thead th {\n",
       "        text-align: right;\n",
       "    }\n",
       "</style>\n",
       "<table border=\"1\" class=\"dataframe\">\n",
       "  <thead>\n",
       "    <tr style=\"text-align: right;\">\n",
       "      <th></th>\n",
       "      <th>order_id</th>\n",
       "      <th>order_item_id</th>\n",
       "      <th>product_id</th>\n",
       "      <th>seller_id</th>\n",
       "      <th>price</th>\n",
       "      <th>shipping_charges</th>\n",
       "    </tr>\n",
       "  </thead>\n",
       "  <tbody>\n",
       "    <tr>\n",
       "      <th>0</th>\n",
       "      <td>00010242fe8c5a6d1ba2dd792cb16214</td>\n",
       "      <td>1</td>\n",
       "      <td>4244733e06e7ecb4970a6e2683c13e61</td>\n",
       "      <td>48436dade18ac8b2bce089ec2a041202</td>\n",
       "      <td>58.90</td>\n",
       "      <td>13.29</td>\n",
       "    </tr>\n",
       "    <tr>\n",
       "      <th>1</th>\n",
       "      <td>00018f77f2f0320c557190d7a144bdd3</td>\n",
       "      <td>1</td>\n",
       "      <td>e5f2d52b802189ee658865ca93d83a8f</td>\n",
       "      <td>dd7ddc04e1b6c2c614352b383efe2d36</td>\n",
       "      <td>239.90</td>\n",
       "      <td>19.93</td>\n",
       "    </tr>\n",
       "    <tr>\n",
       "      <th>2</th>\n",
       "      <td>000229ec398224ef6ca0657da4fc703e</td>\n",
       "      <td>1</td>\n",
       "      <td>c777355d18b72b67abbeef9df44fd0fd</td>\n",
       "      <td>5b51032eddd242adc84c38acab88f23d</td>\n",
       "      <td>199.00</td>\n",
       "      <td>17.87</td>\n",
       "    </tr>\n",
       "    <tr>\n",
       "      <th>3</th>\n",
       "      <td>00024acbcdf0a6daa1e931b038114c75</td>\n",
       "      <td>1</td>\n",
       "      <td>7634da152a4610f1595efa32f14722fc</td>\n",
       "      <td>9d7a1d34a5052409006425275ba1c2b4</td>\n",
       "      <td>12.99</td>\n",
       "      <td>12.79</td>\n",
       "    </tr>\n",
       "    <tr>\n",
       "      <th>4</th>\n",
       "      <td>00042b26cf59d7ce69dfabb4e55b4fd9</td>\n",
       "      <td>1</td>\n",
       "      <td>ac6c3623068f30de03045865e4e10089</td>\n",
       "      <td>df560393f3a51e74553ab94004ba5c87</td>\n",
       "      <td>199.90</td>\n",
       "      <td>18.14</td>\n",
       "    </tr>\n",
       "  </tbody>\n",
       "</table>\n",
       "</div>"
      ],
      "text/plain": [
       "                           order_id  order_item_id  \\\n",
       "0  00010242fe8c5a6d1ba2dd792cb16214              1   \n",
       "1  00018f77f2f0320c557190d7a144bdd3              1   \n",
       "2  000229ec398224ef6ca0657da4fc703e              1   \n",
       "3  00024acbcdf0a6daa1e931b038114c75              1   \n",
       "4  00042b26cf59d7ce69dfabb4e55b4fd9              1   \n",
       "\n",
       "                         product_id                         seller_id   price  \\\n",
       "0  4244733e06e7ecb4970a6e2683c13e61  48436dade18ac8b2bce089ec2a041202   58.90   \n",
       "1  e5f2d52b802189ee658865ca93d83a8f  dd7ddc04e1b6c2c614352b383efe2d36  239.90   \n",
       "2  c777355d18b72b67abbeef9df44fd0fd  5b51032eddd242adc84c38acab88f23d  199.00   \n",
       "3  7634da152a4610f1595efa32f14722fc  9d7a1d34a5052409006425275ba1c2b4   12.99   \n",
       "4  ac6c3623068f30de03045865e4e10089  df560393f3a51e74553ab94004ba5c87  199.90   \n",
       "\n",
       "   shipping_charges  \n",
       "0             13.29  \n",
       "1             19.93  \n",
       "2             17.87  \n",
       "3             12.79  \n",
       "4             18.14  "
      ]
     },
     "execution_count": 14,
     "metadata": {},
     "output_type": "execute_result"
    }
   ],
   "source": [
    "# Reading the Order_items sheet\n",
    "\n",
    "Orderitems_sheet = pd.read_excel(r\"S:\\UPGRAD PG\\Shivkumar Final Capstone\\Retail_dataset.xlsx\", sheet_name=\"order_items\")\n",
    "Orderitems_sheet.head()"
   ]
  },
  {
   "cell_type": "code",
   "execution_count": 15,
   "id": "63ca89ba",
   "metadata": {},
   "outputs": [
    {
     "data": {
      "text/plain": [
       "(112650, 6)"
      ]
     },
     "execution_count": 15,
     "metadata": {},
     "output_type": "execute_result"
    }
   ],
   "source": [
    "Orderitems_sheet.shape"
   ]
  },
  {
   "cell_type": "code",
   "execution_count": 16,
   "id": "7b11f175",
   "metadata": {},
   "outputs": [
    {
     "name": "stdout",
     "output_type": "stream",
     "text": [
      "<class 'pandas.core.frame.DataFrame'>\n",
      "RangeIndex: 112650 entries, 0 to 112649\n",
      "Data columns (total 6 columns):\n",
      " #   Column            Non-Null Count   Dtype  \n",
      "---  ------            --------------   -----  \n",
      " 0   order_id          112650 non-null  object \n",
      " 1   order_item_id     112650 non-null  int64  \n",
      " 2   product_id        112650 non-null  object \n",
      " 3   seller_id         112650 non-null  object \n",
      " 4   price             112650 non-null  float64\n",
      " 5   shipping_charges  112650 non-null  float64\n",
      "dtypes: float64(2), int64(1), object(3)\n",
      "memory usage: 5.2+ MB\n"
     ]
    }
   ],
   "source": [
    "Orderitems_sheet.info()"
   ]
  },
  {
   "cell_type": "code",
   "execution_count": 17,
   "id": "8ffd9e65",
   "metadata": {},
   "outputs": [
    {
     "data": {
      "text/plain": [
       "order_id            0\n",
       "order_item_id       0\n",
       "product_id          0\n",
       "seller_id           0\n",
       "price               0\n",
       "shipping_charges    0\n",
       "dtype: int64"
      ]
     },
     "execution_count": 17,
     "metadata": {},
     "output_type": "execute_result"
    }
   ],
   "source": [
    "# Checking for null/missing values if any\n",
    "\n",
    "Orderitems_sheet.isnull().sum().sort_values(ascending=False)"
   ]
  },
  {
   "cell_type": "markdown",
   "id": "1a29c683",
   "metadata": {},
   "source": [
    "### 3. Customers"
   ]
  },
  {
   "cell_type": "code",
   "execution_count": 18,
   "id": "3e98a0df",
   "metadata": {},
   "outputs": [
    {
     "data": {
      "text/html": [
       "<div>\n",
       "<style scoped>\n",
       "    .dataframe tbody tr th:only-of-type {\n",
       "        vertical-align: middle;\n",
       "    }\n",
       "\n",
       "    .dataframe tbody tr th {\n",
       "        vertical-align: top;\n",
       "    }\n",
       "\n",
       "    .dataframe thead th {\n",
       "        text-align: right;\n",
       "    }\n",
       "</style>\n",
       "<table border=\"1\" class=\"dataframe\">\n",
       "  <thead>\n",
       "    <tr style=\"text-align: right;\">\n",
       "      <th></th>\n",
       "      <th>customer_id</th>\n",
       "      <th>customer_zip_code_prefix</th>\n",
       "      <th>customer_city</th>\n",
       "      <th>customer_state</th>\n",
       "    </tr>\n",
       "  </thead>\n",
       "  <tbody>\n",
       "    <tr>\n",
       "      <th>0</th>\n",
       "      <td>861eff4711a542e4b93843c6dd7febb0</td>\n",
       "      <td>14409</td>\n",
       "      <td>franca</td>\n",
       "      <td>SP</td>\n",
       "    </tr>\n",
       "    <tr>\n",
       "      <th>1</th>\n",
       "      <td>290c77bc529b7ac935b93aa66c333dc3</td>\n",
       "      <td>9790</td>\n",
       "      <td>sao bernardo do campo</td>\n",
       "      <td>SP</td>\n",
       "    </tr>\n",
       "    <tr>\n",
       "      <th>2</th>\n",
       "      <td>060e732b5b29e8181a18229c7b0b2b5e</td>\n",
       "      <td>1151</td>\n",
       "      <td>sao paulo</td>\n",
       "      <td>SP</td>\n",
       "    </tr>\n",
       "    <tr>\n",
       "      <th>3</th>\n",
       "      <td>259dac757896d24d7702b9acbbff3f3c</td>\n",
       "      <td>8775</td>\n",
       "      <td>mogi das cruzes</td>\n",
       "      <td>SP</td>\n",
       "    </tr>\n",
       "    <tr>\n",
       "      <th>4</th>\n",
       "      <td>345ecd01c38d18a9036ed96c73b8d066</td>\n",
       "      <td>13056</td>\n",
       "      <td>campinas</td>\n",
       "      <td>SP</td>\n",
       "    </tr>\n",
       "  </tbody>\n",
       "</table>\n",
       "</div>"
      ],
      "text/plain": [
       "                        customer_id  customer_zip_code_prefix  \\\n",
       "0  861eff4711a542e4b93843c6dd7febb0                     14409   \n",
       "1  290c77bc529b7ac935b93aa66c333dc3                      9790   \n",
       "2  060e732b5b29e8181a18229c7b0b2b5e                      1151   \n",
       "3  259dac757896d24d7702b9acbbff3f3c                      8775   \n",
       "4  345ecd01c38d18a9036ed96c73b8d066                     13056   \n",
       "\n",
       "           customer_city customer_state  \n",
       "0                 franca             SP  \n",
       "1  sao bernardo do campo             SP  \n",
       "2              sao paulo             SP  \n",
       "3        mogi das cruzes             SP  \n",
       "4               campinas             SP  "
      ]
     },
     "execution_count": 18,
     "metadata": {},
     "output_type": "execute_result"
    }
   ],
   "source": [
    "# Reading the Order_items sheet\n",
    "\n",
    "Customers_sheet = pd.read_excel(r\"S:\\UPGRAD PG\\Shivkumar Final Capstone\\Retail_dataset.xlsx\", sheet_name=\"customers\")\n",
    "Customers_sheet.head()"
   ]
  },
  {
   "cell_type": "code",
   "execution_count": 19,
   "id": "8d2fcb5f",
   "metadata": {},
   "outputs": [
    {
     "data": {
      "text/plain": [
       "(99441, 4)"
      ]
     },
     "execution_count": 19,
     "metadata": {},
     "output_type": "execute_result"
    }
   ],
   "source": [
    "Customers_sheet.shape"
   ]
  },
  {
   "cell_type": "code",
   "execution_count": 20,
   "id": "dceb969a",
   "metadata": {},
   "outputs": [
    {
     "data": {
      "text/plain": [
       "customer_id                 0\n",
       "customer_zip_code_prefix    0\n",
       "customer_city               0\n",
       "customer_state              0\n",
       "dtype: int64"
      ]
     },
     "execution_count": 20,
     "metadata": {},
     "output_type": "execute_result"
    }
   ],
   "source": [
    "#Checking if any missing values are there.\n",
    "\n",
    "Customers_sheet.isnull().sum()"
   ]
  },
  {
   "cell_type": "code",
   "execution_count": 21,
   "id": "7c289872",
   "metadata": {},
   "outputs": [
    {
     "data": {
      "text/plain": [
       "3345"
      ]
     },
     "execution_count": 21,
     "metadata": {},
     "output_type": "execute_result"
    }
   ],
   "source": [
    "#Checking for duplicates in customer sheets\n",
    "\n",
    "Customers_sheet[\"customer_id\"].duplicated().sum()"
   ]
  },
  {
   "cell_type": "code",
   "execution_count": 22,
   "id": "6eef81e6",
   "metadata": {},
   "outputs": [],
   "source": [
    "#Dropping the duplicates from the sheets\n",
    "\n",
    "Customers_sheet.drop_duplicates(subset=\"customer_id\", keep=\"first\", inplace=True)"
   ]
  },
  {
   "cell_type": "code",
   "execution_count": 23,
   "id": "7d907a51",
   "metadata": {},
   "outputs": [
    {
     "data": {
      "text/plain": [
       "(96096, 4)"
      ]
     },
     "execution_count": 23,
     "metadata": {},
     "output_type": "execute_result"
    }
   ],
   "source": [
    "#Checking the shape after dropping duplicates. It is less now 99441 - 3345 = 96096\n",
    "\n",
    "Customers_sheet.shape"
   ]
  },
  {
   "cell_type": "code",
   "execution_count": 24,
   "id": "f22b2123",
   "metadata": {},
   "outputs": [
    {
     "data": {
      "text/plain": [
       "0"
      ]
     },
     "execution_count": 24,
     "metadata": {},
     "output_type": "execute_result"
    }
   ],
   "source": [
    "#Once again looking for duplicate values if any\n",
    "\n",
    "Customers_sheet[\"customer_id\"].duplicated().sum()"
   ]
  },
  {
   "cell_type": "markdown",
   "id": "841fab03",
   "metadata": {},
   "source": [
    "### 4. Payments"
   ]
  },
  {
   "cell_type": "code",
   "execution_count": 25,
   "id": "981bd5d3",
   "metadata": {},
   "outputs": [
    {
     "data": {
      "text/html": [
       "<div>\n",
       "<style scoped>\n",
       "    .dataframe tbody tr th:only-of-type {\n",
       "        vertical-align: middle;\n",
       "    }\n",
       "\n",
       "    .dataframe tbody tr th {\n",
       "        vertical-align: top;\n",
       "    }\n",
       "\n",
       "    .dataframe thead th {\n",
       "        text-align: right;\n",
       "    }\n",
       "</style>\n",
       "<table border=\"1\" class=\"dataframe\">\n",
       "  <thead>\n",
       "    <tr style=\"text-align: right;\">\n",
       "      <th></th>\n",
       "      <th>order_id</th>\n",
       "      <th>payment_sequential</th>\n",
       "      <th>payment_type</th>\n",
       "      <th>payment_installments</th>\n",
       "      <th>payment_value</th>\n",
       "    </tr>\n",
       "  </thead>\n",
       "  <tbody>\n",
       "    <tr>\n",
       "      <th>0</th>\n",
       "      <td>b81ef226f3fe1789b1e8b2acac839d17</td>\n",
       "      <td>1</td>\n",
       "      <td>credit_card</td>\n",
       "      <td>8</td>\n",
       "      <td>99.33</td>\n",
       "    </tr>\n",
       "    <tr>\n",
       "      <th>1</th>\n",
       "      <td>a9810da82917af2d9aefd1278f1dcfa0</td>\n",
       "      <td>1</td>\n",
       "      <td>credit_card</td>\n",
       "      <td>1</td>\n",
       "      <td>24.39</td>\n",
       "    </tr>\n",
       "    <tr>\n",
       "      <th>2</th>\n",
       "      <td>25e8ea4e93396b6fa0d3dd708e76c1bd</td>\n",
       "      <td>1</td>\n",
       "      <td>credit_card</td>\n",
       "      <td>1</td>\n",
       "      <td>65.71</td>\n",
       "    </tr>\n",
       "    <tr>\n",
       "      <th>3</th>\n",
       "      <td>ba78997921bbcdc1373bb41e913ab953</td>\n",
       "      <td>1</td>\n",
       "      <td>credit_card</td>\n",
       "      <td>8</td>\n",
       "      <td>107.78</td>\n",
       "    </tr>\n",
       "    <tr>\n",
       "      <th>4</th>\n",
       "      <td>42fdf880ba16b47b59251dd489d4441a</td>\n",
       "      <td>1</td>\n",
       "      <td>credit_card</td>\n",
       "      <td>2</td>\n",
       "      <td>128.45</td>\n",
       "    </tr>\n",
       "  </tbody>\n",
       "</table>\n",
       "</div>"
      ],
      "text/plain": [
       "                           order_id  payment_sequential payment_type  \\\n",
       "0  b81ef226f3fe1789b1e8b2acac839d17                   1  credit_card   \n",
       "1  a9810da82917af2d9aefd1278f1dcfa0                   1  credit_card   \n",
       "2  25e8ea4e93396b6fa0d3dd708e76c1bd                   1  credit_card   \n",
       "3  ba78997921bbcdc1373bb41e913ab953                   1  credit_card   \n",
       "4  42fdf880ba16b47b59251dd489d4441a                   1  credit_card   \n",
       "\n",
       "   payment_installments  payment_value  \n",
       "0                     8          99.33  \n",
       "1                     1          24.39  \n",
       "2                     1          65.71  \n",
       "3                     8         107.78  \n",
       "4                     2         128.45  "
      ]
     },
     "execution_count": 25,
     "metadata": {},
     "output_type": "execute_result"
    }
   ],
   "source": [
    "# Reading the Payments sheet\n",
    "Payments_sheet = pd.read_excel(r\"S:\\UPGRAD PG\\Shivkumar Final Capstone\\Retail_dataset.xlsx\", sheet_name=\"payments\")\n",
    "Payments_sheet.head()"
   ]
  },
  {
   "cell_type": "code",
   "execution_count": 26,
   "id": "e6a5698b",
   "metadata": {},
   "outputs": [
    {
     "data": {
      "text/plain": [
       "(103886, 5)"
      ]
     },
     "execution_count": 26,
     "metadata": {},
     "output_type": "execute_result"
    }
   ],
   "source": [
    "Payments_sheet.shape"
   ]
  },
  {
   "cell_type": "code",
   "execution_count": 27,
   "id": "73964d5b",
   "metadata": {},
   "outputs": [
    {
     "data": {
      "image/png": "[encoded data removed]",
      "text/plain": [
       "<Figure size 720x360 with 1 Axes>"
      ]
     },
     "metadata": {
      "needs_background": "light"
     },
     "output_type": "display_data"
    }
   ],
   "source": [
    "#Checking the most used 'payment_type' and their counts.\n",
    "\n",
    "plt.figure(figsize=(10,5))\n",
    "sns.countplot(data=Payments_sheet, x=Payments_sheet['payment_type'])\n",
    "plt.show()"
   ]
  },
  {
   "cell_type": "markdown",
   "id": "092d1378",
   "metadata": {},
   "source": [
    "- We can observe Credit card is the most used payment type and also we see there are some payments not defined we need to sort it out"
   ]
  },
  {
   "cell_type": "code",
   "execution_count": 28,
   "id": "80e6254f",
   "metadata": {
    "scrolled": true
   },
   "outputs": [
    {
     "data": {
      "text/plain": [
       "order_id                3\n",
       "payment_sequential      3\n",
       "payment_type            3\n",
       "payment_installments    3\n",
       "payment_value           3\n",
       "dtype: int64"
      ]
     },
     "execution_count": 28,
     "metadata": {},
     "output_type": "execute_result"
    }
   ],
   "source": [
    "#Checking the payments 'not defined' affected rows and their count\n",
    "Payments_sheet[Payments_sheet['payment_type']=='not_defined'].count()"
   ]
  },
  {
   "cell_type": "code",
   "execution_count": 29,
   "id": "e04e4f0a",
   "metadata": {},
   "outputs": [
    {
     "data": {
      "text/html": [
       "<div>\n",
       "<style scoped>\n",
       "    .dataframe tbody tr th:only-of-type {\n",
       "        vertical-align: middle;\n",
       "    }\n",
       "\n",
       "    .dataframe tbody tr th {\n",
       "        vertical-align: top;\n",
       "    }\n",
       "\n",
       "    .dataframe thead th {\n",
       "        text-align: right;\n",
       "    }\n",
       "</style>\n",
       "<table border=\"1\" class=\"dataframe\">\n",
       "  <thead>\n",
       "    <tr style=\"text-align: right;\">\n",
       "      <th></th>\n",
       "      <th>order_id</th>\n",
       "      <th>payment_sequential</th>\n",
       "      <th>payment_type</th>\n",
       "      <th>payment_installments</th>\n",
       "      <th>payment_value</th>\n",
       "    </tr>\n",
       "  </thead>\n",
       "  <tbody>\n",
       "    <tr>\n",
       "      <th>51280</th>\n",
       "      <td>4637ca194b6387e2d538dc89b124b0ee</td>\n",
       "      <td>1</td>\n",
       "      <td>not_defined</td>\n",
       "      <td>1</td>\n",
       "      <td>0.0</td>\n",
       "    </tr>\n",
       "    <tr>\n",
       "      <th>57411</th>\n",
       "      <td>00b1cb0320190ca0daa2c88b35206009</td>\n",
       "      <td>1</td>\n",
       "      <td>not_defined</td>\n",
       "      <td>1</td>\n",
       "      <td>0.0</td>\n",
       "    </tr>\n",
       "    <tr>\n",
       "      <th>94427</th>\n",
       "      <td>c8c528189310eaa44a745b8d9d26908b</td>\n",
       "      <td>1</td>\n",
       "      <td>not_defined</td>\n",
       "      <td>1</td>\n",
       "      <td>0.0</td>\n",
       "    </tr>\n",
       "  </tbody>\n",
       "</table>\n",
       "</div>"
      ],
      "text/plain": [
       "                               order_id  payment_sequential payment_type  \\\n",
       "51280  4637ca194b6387e2d538dc89b124b0ee                   1  not_defined   \n",
       "57411  00b1cb0320190ca0daa2c88b35206009                   1  not_defined   \n",
       "94427  c8c528189310eaa44a745b8d9d26908b                   1  not_defined   \n",
       "\n",
       "       payment_installments  payment_value  \n",
       "51280                     1            0.0  \n",
       "57411                     1            0.0  \n",
       "94427                     1            0.0  "
      ]
     },
     "execution_count": 29,
     "metadata": {},
     "output_type": "execute_result"
    }
   ],
   "source": [
    "Payments_sheet[Payments_sheet['payment_type']=='not_defined']"
   ]
  },
  {
   "cell_type": "code",
   "execution_count": 30,
   "id": "975e4ecc",
   "metadata": {},
   "outputs": [],
   "source": [
    "#As we have seen there are only 3 rows with payment type as \"not defined\" so can drop it. \n",
    "\n",
    "a = Payments_sheet[Payments_sheet['payment_type']=='not_defined'].index\n",
    "Payments_sheet.drop(a, axis=0, inplace=True)"
   ]
  },
  {
   "cell_type": "code",
   "execution_count": 31,
   "id": "8c4c5064",
   "metadata": {},
   "outputs": [
    {
     "data": {
      "text/plain": [
       "array(['credit_card', 'wallet', 'voucher', 'debit_card'], dtype=object)"
      ]
     },
     "execution_count": 31,
     "metadata": {},
     "output_type": "execute_result"
    }
   ],
   "source": [
    "# Now we need to confirm if payment type 'not_defined' is dropped or not.\n",
    "\n",
    "Payments_sheet[\"payment_type\"].unique()"
   ]
  },
  {
   "cell_type": "code",
   "execution_count": 32,
   "id": "c659e243",
   "metadata": {},
   "outputs": [
    {
     "data": {
      "text/plain": [
       "order_id                0\n",
       "payment_sequential      0\n",
       "payment_type            0\n",
       "payment_installments    0\n",
       "payment_value           0\n",
       "dtype: int64"
      ]
     },
     "execution_count": 32,
     "metadata": {},
     "output_type": "execute_result"
    }
   ],
   "source": [
    "#Checking missing values.\n",
    "Payments_sheet.isnull().sum()"
   ]
  },
  {
   "cell_type": "markdown",
   "id": "1d48ba78",
   "metadata": {},
   "source": [
    "### 5. Products"
   ]
  },
  {
   "cell_type": "code",
   "execution_count": 33,
   "id": "20b1cfd8",
   "metadata": {},
   "outputs": [],
   "source": [
    "# Reading the Products sheet\n",
    "\n",
    "Products_sheet = pd.read_excel(r\"S:\\UPGRAD PG\\Shivkumar Final Capstone\\Retail_dataset.xlsx\", sheet_name=\"products\")"
   ]
  },
  {
   "cell_type": "code",
   "execution_count": 34,
   "id": "eb2e8bfb",
   "metadata": {},
   "outputs": [
    {
     "data": {
      "text/html": [
       "<div>\n",
       "<style scoped>\n",
       "    .dataframe tbody tr th:only-of-type {\n",
       "        vertical-align: middle;\n",
       "    }\n",
       "\n",
       "    .dataframe tbody tr th {\n",
       "        vertical-align: top;\n",
       "    }\n",
       "\n",
       "    .dataframe thead th {\n",
       "        text-align: right;\n",
       "    }\n",
       "</style>\n",
       "<table border=\"1\" class=\"dataframe\">\n",
       "  <thead>\n",
       "    <tr style=\"text-align: right;\">\n",
       "      <th></th>\n",
       "      <th>product_id</th>\n",
       "      <th>product_category_name</th>\n",
       "      <th>product_weight_g</th>\n",
       "      <th>product_length_cm</th>\n",
       "      <th>product_height_cm</th>\n",
       "      <th>product_width_cm</th>\n",
       "    </tr>\n",
       "  </thead>\n",
       "  <tbody>\n",
       "    <tr>\n",
       "      <th>0</th>\n",
       "      <td>1e9e8ef04dbcff4541ed26657ea517e5</td>\n",
       "      <td>perfumery</td>\n",
       "      <td>225.0</td>\n",
       "      <td>16.0</td>\n",
       "      <td>10.0</td>\n",
       "      <td>14.0</td>\n",
       "    </tr>\n",
       "    <tr>\n",
       "      <th>1</th>\n",
       "      <td>3aa071139cb16b67ca9e5dea641aaa2f</td>\n",
       "      <td>art</td>\n",
       "      <td>1000.0</td>\n",
       "      <td>30.0</td>\n",
       "      <td>18.0</td>\n",
       "      <td>20.0</td>\n",
       "    </tr>\n",
       "    <tr>\n",
       "      <th>2</th>\n",
       "      <td>96bd76ec8810374ed1b65e291975717f</td>\n",
       "      <td>sports_leisure</td>\n",
       "      <td>154.0</td>\n",
       "      <td>18.0</td>\n",
       "      <td>9.0</td>\n",
       "      <td>15.0</td>\n",
       "    </tr>\n",
       "    <tr>\n",
       "      <th>3</th>\n",
       "      <td>cef67bcfe19066a932b7673e239eb23d</td>\n",
       "      <td>baby</td>\n",
       "      <td>371.0</td>\n",
       "      <td>26.0</td>\n",
       "      <td>4.0</td>\n",
       "      <td>26.0</td>\n",
       "    </tr>\n",
       "    <tr>\n",
       "      <th>4</th>\n",
       "      <td>9dc1a7de274444849c219cff195d0b71</td>\n",
       "      <td>housewares</td>\n",
       "      <td>625.0</td>\n",
       "      <td>20.0</td>\n",
       "      <td>17.0</td>\n",
       "      <td>13.0</td>\n",
       "    </tr>\n",
       "  </tbody>\n",
       "</table>\n",
       "</div>"
      ],
      "text/plain": [
       "                         product_id product_category_name  product_weight_g  \\\n",
       "0  1e9e8ef04dbcff4541ed26657ea517e5             perfumery             225.0   \n",
       "1  3aa071139cb16b67ca9e5dea641aaa2f                   art            1000.0   \n",
       "2  96bd76ec8810374ed1b65e291975717f        sports_leisure             154.0   \n",
       "3  cef67bcfe19066a932b7673e239eb23d                  baby             371.0   \n",
       "4  9dc1a7de274444849c219cff195d0b71            housewares             625.0   \n",
       "\n",
       "   product_length_cm  product_height_cm  product_width_cm  \n",
       "0               16.0               10.0              14.0  \n",
       "1               30.0               18.0              20.0  \n",
       "2               18.0                9.0              15.0  \n",
       "3               26.0                4.0              26.0  \n",
       "4               20.0               17.0              13.0  "
      ]
     },
     "execution_count": 34,
     "metadata": {},
     "output_type": "execute_result"
    }
   ],
   "source": [
    "Products_sheet.head()"
   ]
  },
  {
   "cell_type": "code",
   "execution_count": 35,
   "id": "4818edcf",
   "metadata": {},
   "outputs": [
    {
     "data": {
      "text/plain": [
       "(32951, 6)"
      ]
     },
     "execution_count": 35,
     "metadata": {},
     "output_type": "execute_result"
    }
   ],
   "source": [
    "Products_sheet.shape"
   ]
  },
  {
   "cell_type": "code",
   "execution_count": 36,
   "id": "ec8cfd71",
   "metadata": {},
   "outputs": [
    {
     "name": "stdout",
     "output_type": "stream",
     "text": [
      "<class 'pandas.core.frame.DataFrame'>\n",
      "RangeIndex: 32951 entries, 0 to 32950\n",
      "Data columns (total 6 columns):\n",
      " #   Column                 Non-Null Count  Dtype  \n",
      "---  ------                 --------------  -----  \n",
      " 0   product_id             32951 non-null  object \n",
      " 1   product_category_name  32781 non-null  object \n",
      " 2   product_weight_g       32949 non-null  float64\n",
      " 3   product_length_cm      32949 non-null  float64\n",
      " 4   product_height_cm      32949 non-null  float64\n",
      " 5   product_width_cm       32949 non-null  float64\n",
      "dtypes: float64(4), object(2)\n",
      "memory usage: 1.5+ MB\n"
     ]
    }
   ],
   "source": [
    "Products_sheet.info()"
   ]
  },
  {
   "cell_type": "code",
   "execution_count": 37,
   "id": "12ba870d",
   "metadata": {},
   "outputs": [
    {
     "data": {
      "text/plain": [
       "Index(['product_id', 'product_category_name', 'product_weight_g',\n",
       "       'product_length_cm', 'product_height_cm', 'product_width_cm'],\n",
       "      dtype='object')"
      ]
     },
     "execution_count": 37,
     "metadata": {},
     "output_type": "execute_result"
    }
   ],
   "source": [
    "Products_sheet.columns"
   ]
  },
  {
   "cell_type": "code",
   "execution_count": 38,
   "id": "d90c9c24",
   "metadata": {
    "scrolled": true
   },
   "outputs": [
    {
     "data": {
      "text/plain": [
       "toys                                 75.424789\n",
       "bed_bath_table                        2.406882\n",
       "sports_leisure                        2.199445\n",
       "furniture_decor                       2.095726\n",
       "health_beauty                         1.976755\n",
       "                                       ...    \n",
       "home_comfort_2                        0.003051\n",
       "diapers_and_hygiene                   0.003051\n",
       "security_and_services                 0.003051\n",
       "furniture_mattress_and_upholstery     0.003051\n",
       "fashion_childrens_clothes             0.003051\n",
       "Name: product_category_name, Length: 70, dtype: float64"
      ]
     },
     "execution_count": 38,
     "metadata": {},
     "output_type": "execute_result"
    }
   ],
   "source": [
    "Products_sheet['product_category_name'].value_counts(normalize = True)*100"
   ]
  },
  {
   "cell_type": "markdown",
   "id": "4a61766a",
   "metadata": {},
   "source": [
    "- From above we can observe that product category \"Toys\" are the major category covered almost 75% of all category."
   ]
  },
  {
   "cell_type": "code",
   "execution_count": 39,
   "id": "ee80c234",
   "metadata": {},
   "outputs": [
    {
     "data": {
      "text/plain": [
       "product_category_name    170\n",
       "product_weight_g           2\n",
       "product_length_cm          2\n",
       "product_height_cm          2\n",
       "product_width_cm           2\n",
       "product_id                 0\n",
       "dtype: int64"
      ]
     },
     "execution_count": 39,
     "metadata": {},
     "output_type": "execute_result"
    }
   ],
   "source": [
    "#Checking missing values.\n",
    "\n",
    "Products_sheet.isna().sum().sort_values(ascending=False)"
   ]
  },
  {
   "cell_type": "code",
   "execution_count": 40,
   "id": "81cf7a03",
   "metadata": {},
   "outputs": [
    {
     "data": {
      "text/plain": [
       "pandas.core.series.Series"
      ]
     },
     "execution_count": 40,
     "metadata": {},
     "output_type": "execute_result"
    }
   ],
   "source": [
    "type(Products_sheet[\"product_category_name\"].mode())"
   ]
  },
  {
   "cell_type": "code",
   "execution_count": 41,
   "id": "5cc74a00",
   "metadata": {},
   "outputs": [
    {
     "data": {
      "text/plain": [
       "0    toys\n",
       "dtype: object"
      ]
     },
     "execution_count": 41,
     "metadata": {},
     "output_type": "execute_result"
    }
   ],
   "source": [
    "#Checking the mode of \"product_category_name\" for replacing the categorical variable - 'product_category_name'\n",
    "\n",
    "Products_sheet[\"product_category_name\"].mode()"
   ]
  },
  {
   "cell_type": "code",
   "execution_count": 42,
   "id": "61e34c53",
   "metadata": {},
   "outputs": [],
   "source": [
    "#Replacing the NULL values of product_category_name columns.\n",
    "\n",
    "Products_sheet[\"product_category_name\"].fillna(Products_sheet[\"product_category_name\"].mode()[0], inplace=True)"
   ]
  },
  {
   "cell_type": "code",
   "execution_count": 43,
   "id": "6c802774",
   "metadata": {},
   "outputs": [
    {
     "data": {
      "text/plain": [
       "product_weight_g         2\n",
       "product_length_cm        2\n",
       "product_height_cm        2\n",
       "product_width_cm         2\n",
       "product_id               0\n",
       "product_category_name    0\n",
       "dtype: int64"
      ]
     },
     "execution_count": 43,
     "metadata": {},
     "output_type": "execute_result"
    }
   ],
   "source": [
    "#Checking missing values again for remaining columns.\n",
    "\n",
    "Products_sheet.isna().sum().sort_values(ascending=False)"
   ]
  },
  {
   "cell_type": "code",
   "execution_count": 44,
   "id": "a851c563",
   "metadata": {},
   "outputs": [
    {
     "data": {
      "text/html": [
       "<div>\n",
       "<style scoped>\n",
       "    .dataframe tbody tr th:only-of-type {\n",
       "        vertical-align: middle;\n",
       "    }\n",
       "\n",
       "    .dataframe tbody tr th {\n",
       "        vertical-align: top;\n",
       "    }\n",
       "\n",
       "    .dataframe thead th {\n",
       "        text-align: right;\n",
       "    }\n",
       "</style>\n",
       "<table border=\"1\" class=\"dataframe\">\n",
       "  <thead>\n",
       "    <tr style=\"text-align: right;\">\n",
       "      <th></th>\n",
       "      <th>product_weight_g</th>\n",
       "      <th>product_length_cm</th>\n",
       "      <th>product_height_cm</th>\n",
       "      <th>product_width_cm</th>\n",
       "    </tr>\n",
       "  </thead>\n",
       "  <tbody>\n",
       "    <tr>\n",
       "      <th>count</th>\n",
       "      <td>32949.000000</td>\n",
       "      <td>32949.000000</td>\n",
       "      <td>32949.000000</td>\n",
       "      <td>32949.000000</td>\n",
       "    </tr>\n",
       "    <tr>\n",
       "      <th>mean</th>\n",
       "      <td>2276.472488</td>\n",
       "      <td>30.815078</td>\n",
       "      <td>16.937661</td>\n",
       "      <td>23.196728</td>\n",
       "    </tr>\n",
       "    <tr>\n",
       "      <th>std</th>\n",
       "      <td>4282.038731</td>\n",
       "      <td>16.914458</td>\n",
       "      <td>13.637554</td>\n",
       "      <td>12.079047</td>\n",
       "    </tr>\n",
       "    <tr>\n",
       "      <th>min</th>\n",
       "      <td>0.000000</td>\n",
       "      <td>7.000000</td>\n",
       "      <td>2.000000</td>\n",
       "      <td>6.000000</td>\n",
       "    </tr>\n",
       "    <tr>\n",
       "      <th>25%</th>\n",
       "      <td>300.000000</td>\n",
       "      <td>18.000000</td>\n",
       "      <td>8.000000</td>\n",
       "      <td>15.000000</td>\n",
       "    </tr>\n",
       "    <tr>\n",
       "      <th>50%</th>\n",
       "      <td>700.000000</td>\n",
       "      <td>25.000000</td>\n",
       "      <td>13.000000</td>\n",
       "      <td>20.000000</td>\n",
       "    </tr>\n",
       "    <tr>\n",
       "      <th>75%</th>\n",
       "      <td>1900.000000</td>\n",
       "      <td>38.000000</td>\n",
       "      <td>21.000000</td>\n",
       "      <td>30.000000</td>\n",
       "    </tr>\n",
       "    <tr>\n",
       "      <th>max</th>\n",
       "      <td>40425.000000</td>\n",
       "      <td>105.000000</td>\n",
       "      <td>105.000000</td>\n",
       "      <td>118.000000</td>\n",
       "    </tr>\n",
       "  </tbody>\n",
       "</table>\n",
       "</div>"
      ],
      "text/plain": [
       "       product_weight_g  product_length_cm  product_height_cm  \\\n",
       "count      32949.000000       32949.000000       32949.000000   \n",
       "mean        2276.472488          30.815078          16.937661   \n",
       "std         4282.038731          16.914458          13.637554   \n",
       "min            0.000000           7.000000           2.000000   \n",
       "25%          300.000000          18.000000           8.000000   \n",
       "50%          700.000000          25.000000          13.000000   \n",
       "75%         1900.000000          38.000000          21.000000   \n",
       "max        40425.000000         105.000000         105.000000   \n",
       "\n",
       "       product_width_cm  \n",
       "count      32949.000000  \n",
       "mean          23.196728  \n",
       "std           12.079047  \n",
       "min            6.000000  \n",
       "25%           15.000000  \n",
       "50%           20.000000  \n",
       "75%           30.000000  \n",
       "max          118.000000  "
      ]
     },
     "execution_count": 44,
     "metadata": {},
     "output_type": "execute_result"
    }
   ],
   "source": [
    "#Checking the statistical data to find solution for the NULL values of remaining columns\n",
    "Products_sheet.describe()"
   ]
  },
  {
   "cell_type": "markdown",
   "id": "5c1ea29e",
   "metadata": {},
   "source": [
    "- So the question is how to replace the missing values of remaining numerical column by mean or by median, we can see the mean \n",
    "    value above but we need to look at the median as well."
   ]
  },
  {
   "cell_type": "code",
   "execution_count": 45,
   "id": "1cf58f37",
   "metadata": {
    "scrolled": true
   },
   "outputs": [
    {
     "data": {
      "image/png": "[encoded data removed]",
      "text/plain": [
       "<Figure size 1080x360 with 1 Axes>"
      ]
     },
     "metadata": {
      "needs_background": "light"
     },
     "output_type": "display_data"
    }
   ],
   "source": [
    "#Visualizing the product_weight_g for skewness\n",
    "\n",
    "plt.figure(figsize=(15,5))\n",
    "sns.distplot(Products_sheet.product_weight_g)\n",
    "plt.axvline(Products_sheet.product_weight_g.mean(), color=\"green\")\n",
    "plt.axvline(Products_sheet.product_weight_g.median(), color=\"black\")\n",
    "plt.show()"
   ]
  },
  {
   "cell_type": "markdown",
   "id": "7fe36d02",
   "metadata": {},
   "source": [
    "- So we can observe that the above graph is skewed"
   ]
  },
  {
   "cell_type": "code",
   "execution_count": 46,
   "id": "cd20a1ae",
   "metadata": {},
   "outputs": [
    {
     "data": {
      "image/png": "[encoded data removed]",
      "text/plain": [
       "<Figure size 1080x360 with 1 Axes>"
      ]
     },
     "metadata": {
      "needs_background": "light"
     },
     "output_type": "display_data"
    }
   ],
   "source": [
    "#Visualizing the product_length_cm for data skewness\n",
    "\n",
    "plt.figure(figsize=(15,5))\n",
    "sns.distplot(Products_sheet.product_length_cm)\n",
    "plt.axvline(Products_sheet.product_length_cm.mean(), color=\"green\")\n",
    "plt.axvline(Products_sheet.product_length_cm.median(), color=\"black\")\n",
    "plt.show()"
   ]
  },
  {
   "cell_type": "code",
   "execution_count": 47,
   "id": "5a2672fc",
   "metadata": {},
   "outputs": [
    {
     "data": {
      "image/png": "[encoded data removed]",
      "text/plain": [
       "<Figure size 1080x360 with 1 Axes>"
      ]
     },
     "metadata": {
      "needs_background": "light"
     },
     "output_type": "display_data"
    }
   ],
   "source": [
    "#Visualizing the product_height_cm for skewness\n",
    "\n",
    "plt.figure(figsize=(15,5))\n",
    "sns.distplot(Products_sheet.product_height_cm)\n",
    "plt.axvline(Products_sheet.product_height_cm.mean(), color=\"green\")\n",
    "plt.axvline(Products_sheet.product_height_cm.median(), color=\"black\")\n",
    "plt.show()"
   ]
  },
  {
   "cell_type": "code",
   "execution_count": 48,
   "id": "4785cc81",
   "metadata": {
    "scrolled": true
   },
   "outputs": [
    {
     "data": {
      "image/png": "[encoded data removed]",
      "text/plain": [
       "<Figure size 1080x360 with 1 Axes>"
      ]
     },
     "metadata": {
      "needs_background": "light"
     },
     "output_type": "display_data"
    }
   ],
   "source": [
    "#Visualizing the product_width_cm for skewness\n",
    "\n",
    "plt.figure(figsize=(15,5))\n",
    "sns.distplot(Products_sheet.product_width_cm)\n",
    "plt.axvline(Products_sheet.product_width_cm.mean(), color=\"green\")\n",
    "plt.axvline(Products_sheet.product_width_cm.median(), color=\"black\")\n",
    "plt.show()"
   ]
  },
  {
   "cell_type": "markdown",
   "id": "c6973d73",
   "metadata": {},
   "source": [
    "- All the above graphs are skewed so need to replace the missing values of all numerical columns by median values"
   ]
  },
  {
   "cell_type": "code",
   "execution_count": 49,
   "id": "11ccd435",
   "metadata": {},
   "outputs": [
    {
     "data": {
      "text/plain": [
       "700.0"
      ]
     },
     "execution_count": 49,
     "metadata": {},
     "output_type": "execute_result"
    }
   ],
   "source": [
    "Products_sheet['product_weight_g'].median()"
   ]
  },
  {
   "cell_type": "code",
   "execution_count": 50,
   "id": "b4f77840",
   "metadata": {},
   "outputs": [
    {
     "data": {
      "text/plain": [
       "25.0"
      ]
     },
     "execution_count": 50,
     "metadata": {},
     "output_type": "execute_result"
    }
   ],
   "source": [
    "Products_sheet['product_length_cm'].median()"
   ]
  },
  {
   "cell_type": "code",
   "execution_count": 51,
   "id": "80b5b659",
   "metadata": {},
   "outputs": [
    {
     "data": {
      "text/plain": [
       "13.0"
      ]
     },
     "execution_count": 51,
     "metadata": {},
     "output_type": "execute_result"
    }
   ],
   "source": [
    "Products_sheet['product_height_cm'].median()"
   ]
  },
  {
   "cell_type": "code",
   "execution_count": 52,
   "id": "6b77de26",
   "metadata": {},
   "outputs": [
    {
     "data": {
      "text/plain": [
       "20.0"
      ]
     },
     "execution_count": 52,
     "metadata": {},
     "output_type": "execute_result"
    }
   ],
   "source": [
    "Products_sheet['product_width_cm'].median()"
   ]
  },
  {
   "cell_type": "code",
   "execution_count": 53,
   "id": "e4bf2567",
   "metadata": {},
   "outputs": [],
   "source": [
    "#Replacing the missing values with Median.\n",
    "\n",
    "Products_sheet.product_weight_g.fillna(Products_sheet.product_weight_g.median(), inplace=True)\n",
    "Products_sheet.product_length_cm.fillna(Products_sheet.product_length_cm.median(), inplace=True)\n",
    "Products_sheet.product_height_cm.fillna(Products_sheet.product_height_cm.median(), inplace=True)\n",
    "Products_sheet.product_width_cm.fillna(Products_sheet.product_width_cm.median(), inplace=True)"
   ]
  },
  {
   "cell_type": "code",
   "execution_count": 54,
   "id": "06c4ffb2",
   "metadata": {},
   "outputs": [
    {
     "data": {
      "text/plain": [
       "product_id               0\n",
       "product_category_name    0\n",
       "product_weight_g         0\n",
       "product_length_cm        0\n",
       "product_height_cm        0\n",
       "product_width_cm         0\n",
       "dtype: int64"
      ]
     },
     "execution_count": 54,
     "metadata": {},
     "output_type": "execute_result"
    }
   ],
   "source": [
    "#Validating missing values after replacing.\n",
    "\n",
    "Products_sheet.isna().sum().sort_values(ascending=False)"
   ]
  },
  {
   "cell_type": "markdown",
   "id": "9cbbda95",
   "metadata": {},
   "source": [
    "- So now all the basic work is done we have cleaned all the worksheets  is now ready.\n",
    "- At first we need to merge all the data sheets in to one excel file and extract it."
   ]
  },
  {
   "cell_type": "markdown",
   "id": "8d8eeb22",
   "metadata": {},
   "source": [
    "#### Now, as we need extract the excel sheet for visualization  and we need to merge and prepare data for market basket analysis:\n",
    "\n",
    "#### 1. Extracting data in the form of excel files.\n",
    "\n",
    "#### 2. Market Basket analysis using apriori alogorithm. "
   ]
  },
  {
   "cell_type": "code",
   "execution_count": 55,
   "id": "067cfaf8",
   "metadata": {},
   "outputs": [],
   "source": [
    "# Create a Pandas Excel writer using XlsxWriter as the engine.\n",
    "writer = pd.ExcelWriter('Retail_dataset_Cleaned.xlsx', engine='xlsxwriter')"
   ]
  },
  {
   "cell_type": "code",
   "execution_count": 56,
   "id": "52937036",
   "metadata": {},
   "outputs": [],
   "source": [
    "# Write each dataframe to a different worksheet.\n",
    "Orders_sheet.to_excel(writer, sheet_name='Orders')\n",
    "Orderitems_sheet.to_excel(writer, sheet_name='Orderitems')\n",
    "Customers_sheet.to_excel(writer, sheet_name='Customers')\n",
    "Payments_sheet.to_excel(writer, sheet_name='Payments')\n",
    "Products_sheet.to_excel(writer, sheet_name='Products')"
   ]
  },
  {
   "cell_type": "code",
   "execution_count": 57,
   "id": "1be38449",
   "metadata": {},
   "outputs": [],
   "source": [
    "# Close the Pandas Excel writer and output the Excel file.\n",
    "writer.save()"
   ]
  },
  {
   "cell_type": "code",
   "execution_count": 58,
   "id": "f1ab7317",
   "metadata": {},
   "outputs": [],
   "source": [
    "# At first we need to create a new dataframe named \"Delivered_orders\" merging all the others sheets\n",
    "\n",
    "Delivered_orders= pd.merge(Orders_sheet,Orderitems_sheet,how='inner',on='order_id')"
   ]
  },
  {
   "cell_type": "code",
   "execution_count": 59,
   "id": "ba807404",
   "metadata": {},
   "outputs": [
    {
     "data": {
      "text/html": [
       "<div>\n",
       "<style scoped>\n",
       "    .dataframe tbody tr th:only-of-type {\n",
       "        vertical-align: middle;\n",
       "    }\n",
       "\n",
       "    .dataframe tbody tr th {\n",
       "        vertical-align: top;\n",
       "    }\n",
       "\n",
       "    .dataframe thead th {\n",
       "        text-align: right;\n",
       "    }\n",
       "</style>\n",
       "<table border=\"1\" class=\"dataframe\">\n",
       "  <thead>\n",
       "    <tr style=\"text-align: right;\">\n",
       "      <th></th>\n",
       "      <th>order_id</th>\n",
       "      <th>customer_id</th>\n",
       "      <th>order_status</th>\n",
       "      <th>order_purchase_timestamp</th>\n",
       "      <th>order_approved_at</th>\n",
       "      <th>order_delivered_timestamp</th>\n",
       "      <th>order_estimated_delivery_date</th>\n",
       "      <th>order_item_id</th>\n",
       "      <th>product_id</th>\n",
       "      <th>seller_id</th>\n",
       "      <th>price</th>\n",
       "      <th>shipping_charges</th>\n",
       "    </tr>\n",
       "  </thead>\n",
       "  <tbody>\n",
       "    <tr>\n",
       "      <th>0</th>\n",
       "      <td>e481f51cbdc54678b7cc49136f2d6af7</td>\n",
       "      <td>7c396fd4830fd04220f754e42b4e5bff</td>\n",
       "      <td>delivered</td>\n",
       "      <td>2017-10-02 10:56:33</td>\n",
       "      <td>2017-10-02 11:07:15</td>\n",
       "      <td>2017-10-10 21:25:13</td>\n",
       "      <td>2017-10-18</td>\n",
       "      <td>1</td>\n",
       "      <td>87285b34884572647811a353c7ac498a</td>\n",
       "      <td>3504c0cb71d7fa48d967e0e4c94d59d9</td>\n",
       "      <td>29.99</td>\n",
       "      <td>8.72</td>\n",
       "    </tr>\n",
       "    <tr>\n",
       "      <th>1</th>\n",
       "      <td>53cdb2fc8bc7dce0b6741e2150273451</td>\n",
       "      <td>af07308b275d755c9edb36a90c618231</td>\n",
       "      <td>delivered</td>\n",
       "      <td>2018-07-24 20:41:37</td>\n",
       "      <td>2018-07-26 03:24:27</td>\n",
       "      <td>2018-08-07 15:27:45</td>\n",
       "      <td>2018-08-13</td>\n",
       "      <td>1</td>\n",
       "      <td>595fac2a385ac33a80bd5114aec74eb8</td>\n",
       "      <td>289cdb325fb7e7f891c38608bf9e0962</td>\n",
       "      <td>118.70</td>\n",
       "      <td>22.76</td>\n",
       "    </tr>\n",
       "    <tr>\n",
       "      <th>2</th>\n",
       "      <td>47770eb9100c2d0c44946d9cf07ec65d</td>\n",
       "      <td>3a653a41f6f9fc3d2a113cf8398680e8</td>\n",
       "      <td>delivered</td>\n",
       "      <td>2018-08-08 08:38:49</td>\n",
       "      <td>2018-08-08 08:55:23</td>\n",
       "      <td>2018-08-17 18:06:29</td>\n",
       "      <td>2018-09-04</td>\n",
       "      <td>1</td>\n",
       "      <td>aa4383b373c6aca5d8797843e5594415</td>\n",
       "      <td>4869f7a5dfa277a7dca6462dcf3b52b2</td>\n",
       "      <td>159.90</td>\n",
       "      <td>19.22</td>\n",
       "    </tr>\n",
       "    <tr>\n",
       "      <th>3</th>\n",
       "      <td>949d5b44dbf5de918fe9c16f97b45f8a</td>\n",
       "      <td>7c142cf63193a1473d2e66489a9ae977</td>\n",
       "      <td>delivered</td>\n",
       "      <td>2017-11-18 19:28:06</td>\n",
       "      <td>2017-11-18 19:45:59</td>\n",
       "      <td>2017-12-02 00:28:42</td>\n",
       "      <td>2017-12-15</td>\n",
       "      <td>1</td>\n",
       "      <td>d0b61bfb1de832b15ba9d266ca96e5b0</td>\n",
       "      <td>66922902710d126a0e7d26b0e3805106</td>\n",
       "      <td>45.00</td>\n",
       "      <td>27.20</td>\n",
       "    </tr>\n",
       "    <tr>\n",
       "      <th>4</th>\n",
       "      <td>ad21c59c0840e6cb83a9ceb5573f8159</td>\n",
       "      <td>72632f0f9dd73dfee390c9b22eb56dd6</td>\n",
       "      <td>delivered</td>\n",
       "      <td>2018-02-13 21:18:39</td>\n",
       "      <td>2018-02-13 22:20:29</td>\n",
       "      <td>2018-02-16 18:17:02</td>\n",
       "      <td>2018-02-26</td>\n",
       "      <td>1</td>\n",
       "      <td>65266b2da20d04dbe00c5c2d3bb7859e</td>\n",
       "      <td>2c9e548be18521d1c43cde1c582c6de8</td>\n",
       "      <td>19.90</td>\n",
       "      <td>8.72</td>\n",
       "    </tr>\n",
       "  </tbody>\n",
       "</table>\n",
       "</div>"
      ],
      "text/plain": [
       "                           order_id                       customer_id  \\\n",
       "0  e481f51cbdc54678b7cc49136f2d6af7  7c396fd4830fd04220f754e42b4e5bff   \n",
       "1  53cdb2fc8bc7dce0b6741e2150273451  af07308b275d755c9edb36a90c618231   \n",
       "2  47770eb9100c2d0c44946d9cf07ec65d  3a653a41f6f9fc3d2a113cf8398680e8   \n",
       "3  949d5b44dbf5de918fe9c16f97b45f8a  7c142cf63193a1473d2e66489a9ae977   \n",
       "4  ad21c59c0840e6cb83a9ceb5573f8159  72632f0f9dd73dfee390c9b22eb56dd6   \n",
       "\n",
       "  order_status order_purchase_timestamp   order_approved_at  \\\n",
       "0    delivered      2017-10-02 10:56:33 2017-10-02 11:07:15   \n",
       "1    delivered      2018-07-24 20:41:37 2018-07-26 03:24:27   \n",
       "2    delivered      2018-08-08 08:38:49 2018-08-08 08:55:23   \n",
       "3    delivered      2017-11-18 19:28:06 2017-11-18 19:45:59   \n",
       "4    delivered      2018-02-13 21:18:39 2018-02-13 22:20:29   \n",
       "\n",
       "  order_delivered_timestamp order_estimated_delivery_date  order_item_id  \\\n",
       "0       2017-10-10 21:25:13                    2017-10-18              1   \n",
       "1       2018-08-07 15:27:45                    2018-08-13              1   \n",
       "2       2018-08-17 18:06:29                    2018-09-04              1   \n",
       "3       2017-12-02 00:28:42                    2017-12-15              1   \n",
       "4       2018-02-16 18:17:02                    2018-02-26              1   \n",
       "\n",
       "                         product_id                         seller_id   price  \\\n",
       "0  87285b34884572647811a353c7ac498a  3504c0cb71d7fa48d967e0e4c94d59d9   29.99   \n",
       "1  595fac2a385ac33a80bd5114aec74eb8  289cdb325fb7e7f891c38608bf9e0962  118.70   \n",
       "2  aa4383b373c6aca5d8797843e5594415  4869f7a5dfa277a7dca6462dcf3b52b2  159.90   \n",
       "3  d0b61bfb1de832b15ba9d266ca96e5b0  66922902710d126a0e7d26b0e3805106   45.00   \n",
       "4  65266b2da20d04dbe00c5c2d3bb7859e  2c9e548be18521d1c43cde1c582c6de8   19.90   \n",
       "\n",
       "   shipping_charges  \n",
       "0              8.72  \n",
       "1             22.76  \n",
       "2             19.22  \n",
       "3             27.20  \n",
       "4              8.72  "
      ]
     },
     "execution_count": 59,
     "metadata": {},
     "output_type": "execute_result"
    }
   ],
   "source": [
    "Delivered_orders.head()"
   ]
  },
  {
   "cell_type": "code",
   "execution_count": 60,
   "id": "5c46907a",
   "metadata": {},
   "outputs": [
    {
     "data": {
      "text/plain": [
       "(110197, 12)"
      ]
     },
     "execution_count": 60,
     "metadata": {},
     "output_type": "execute_result"
    }
   ],
   "source": [
    "Delivered_orders.shape"
   ]
  },
  {
   "cell_type": "code",
   "execution_count": 61,
   "id": "f7e24bf0",
   "metadata": {},
   "outputs": [
    {
     "data": {
      "text/plain": [
       "order_id                         0\n",
       "customer_id                      0\n",
       "order_status                     0\n",
       "order_purchase_timestamp         0\n",
       "order_approved_at                0\n",
       "order_delivered_timestamp        0\n",
       "order_estimated_delivery_date    0\n",
       "order_item_id                    0\n",
       "product_id                       0\n",
       "seller_id                        0\n",
       "price                            0\n",
       "shipping_charges                 0\n",
       "dtype: int64"
      ]
     },
     "execution_count": 61,
     "metadata": {},
     "output_type": "execute_result"
    }
   ],
   "source": [
    "Delivered_orders.isnull().sum()"
   ]
  },
  {
   "cell_type": "code",
   "execution_count": 62,
   "id": "1217b438",
   "metadata": {},
   "outputs": [],
   "source": [
    "#Merging 'Delivered_orders' with 'Products_sheet'\n",
    "\n",
    "Delivered_orders = pd.merge(Delivered_orders,Products_sheet,how='inner',on='product_id')"
   ]
  },
  {
   "cell_type": "code",
   "execution_count": 63,
   "id": "ddbcabc5",
   "metadata": {},
   "outputs": [
    {
     "data": {
      "text/html": [
       "<div>\n",
       "<style scoped>\n",
       "    .dataframe tbody tr th:only-of-type {\n",
       "        vertical-align: middle;\n",
       "    }\n",
       "\n",
       "    .dataframe tbody tr th {\n",
       "        vertical-align: top;\n",
       "    }\n",
       "\n",
       "    .dataframe thead th {\n",
       "        text-align: right;\n",
       "    }\n",
       "</style>\n",
       "<table border=\"1\" class=\"dataframe\">\n",
       "  <thead>\n",
       "    <tr style=\"text-align: right;\">\n",
       "      <th></th>\n",
       "      <th>order_id</th>\n",
       "      <th>customer_id</th>\n",
       "      <th>order_status</th>\n",
       "      <th>order_purchase_timestamp</th>\n",
       "      <th>order_approved_at</th>\n",
       "      <th>order_delivered_timestamp</th>\n",
       "      <th>order_estimated_delivery_date</th>\n",
       "      <th>order_item_id</th>\n",
       "      <th>product_id</th>\n",
       "      <th>seller_id</th>\n",
       "      <th>price</th>\n",
       "      <th>shipping_charges</th>\n",
       "      <th>product_category_name</th>\n",
       "      <th>product_weight_g</th>\n",
       "      <th>product_length_cm</th>\n",
       "      <th>product_height_cm</th>\n",
       "      <th>product_width_cm</th>\n",
       "    </tr>\n",
       "  </thead>\n",
       "  <tbody>\n",
       "    <tr>\n",
       "      <th>0</th>\n",
       "      <td>e481f51cbdc54678b7cc49136f2d6af7</td>\n",
       "      <td>7c396fd4830fd04220f754e42b4e5bff</td>\n",
       "      <td>delivered</td>\n",
       "      <td>2017-10-02 10:56:33</td>\n",
       "      <td>2017-10-02 11:07:15</td>\n",
       "      <td>2017-10-10 21:25:13</td>\n",
       "      <td>2017-10-18</td>\n",
       "      <td>1</td>\n",
       "      <td>87285b34884572647811a353c7ac498a</td>\n",
       "      <td>3504c0cb71d7fa48d967e0e4c94d59d9</td>\n",
       "      <td>29.99</td>\n",
       "      <td>8.72</td>\n",
       "      <td>housewares</td>\n",
       "      <td>500.0</td>\n",
       "      <td>19.0</td>\n",
       "      <td>8.0</td>\n",
       "      <td>13.0</td>\n",
       "    </tr>\n",
       "    <tr>\n",
       "      <th>1</th>\n",
       "      <td>128e10d95713541c87cd1a2e48201934</td>\n",
       "      <td>3a51803cc0d012c3b5dc8b7528cb05f7</td>\n",
       "      <td>delivered</td>\n",
       "      <td>2017-08-15 18:29:31</td>\n",
       "      <td>2017-08-15 20:05:16</td>\n",
       "      <td>2017-08-18 14:44:43</td>\n",
       "      <td>2017-08-28</td>\n",
       "      <td>1</td>\n",
       "      <td>87285b34884572647811a353c7ac498a</td>\n",
       "      <td>3504c0cb71d7fa48d967e0e4c94d59d9</td>\n",
       "      <td>29.99</td>\n",
       "      <td>7.78</td>\n",
       "      <td>housewares</td>\n",
       "      <td>500.0</td>\n",
       "      <td>19.0</td>\n",
       "      <td>8.0</td>\n",
       "      <td>13.0</td>\n",
       "    </tr>\n",
       "    <tr>\n",
       "      <th>2</th>\n",
       "      <td>0e7e841ddf8f8f2de2bad69267ecfbcf</td>\n",
       "      <td>ef0996a1a279c26e7ecbd737be23d235</td>\n",
       "      <td>delivered</td>\n",
       "      <td>2017-08-02 18:24:47</td>\n",
       "      <td>2017-08-02 18:43:15</td>\n",
       "      <td>2017-08-07 18:30:01</td>\n",
       "      <td>2017-08-15</td>\n",
       "      <td>1</td>\n",
       "      <td>87285b34884572647811a353c7ac498a</td>\n",
       "      <td>3504c0cb71d7fa48d967e0e4c94d59d9</td>\n",
       "      <td>29.99</td>\n",
       "      <td>7.78</td>\n",
       "      <td>housewares</td>\n",
       "      <td>500.0</td>\n",
       "      <td>19.0</td>\n",
       "      <td>8.0</td>\n",
       "      <td>13.0</td>\n",
       "    </tr>\n",
       "    <tr>\n",
       "      <th>3</th>\n",
       "      <td>bfc39df4f36c3693ff3b63fcbea9e90a</td>\n",
       "      <td>e781fdcc107d13d865fc7698711cc572</td>\n",
       "      <td>delivered</td>\n",
       "      <td>2017-10-23 23:26:46</td>\n",
       "      <td>2017-10-25 02:14:11</td>\n",
       "      <td>2017-11-07 18:04:59</td>\n",
       "      <td>2017-11-13</td>\n",
       "      <td>1</td>\n",
       "      <td>87285b34884572647811a353c7ac498a</td>\n",
       "      <td>3504c0cb71d7fa48d967e0e4c94d59d9</td>\n",
       "      <td>29.99</td>\n",
       "      <td>14.10</td>\n",
       "      <td>housewares</td>\n",
       "      <td>500.0</td>\n",
       "      <td>19.0</td>\n",
       "      <td>8.0</td>\n",
       "      <td>13.0</td>\n",
       "    </tr>\n",
       "    <tr>\n",
       "      <th>4</th>\n",
       "      <td>53cdb2fc8bc7dce0b6741e2150273451</td>\n",
       "      <td>af07308b275d755c9edb36a90c618231</td>\n",
       "      <td>delivered</td>\n",
       "      <td>2018-07-24 20:41:37</td>\n",
       "      <td>2018-07-26 03:24:27</td>\n",
       "      <td>2018-08-07 15:27:45</td>\n",
       "      <td>2018-08-13</td>\n",
       "      <td>1</td>\n",
       "      <td>595fac2a385ac33a80bd5114aec74eb8</td>\n",
       "      <td>289cdb325fb7e7f891c38608bf9e0962</td>\n",
       "      <td>118.70</td>\n",
       "      <td>22.76</td>\n",
       "      <td>toys</td>\n",
       "      <td>400.0</td>\n",
       "      <td>19.0</td>\n",
       "      <td>13.0</td>\n",
       "      <td>19.0</td>\n",
       "    </tr>\n",
       "  </tbody>\n",
       "</table>\n",
       "</div>"
      ],
      "text/plain": [
       "                           order_id                       customer_id  \\\n",
       "0  e481f51cbdc54678b7cc49136f2d6af7  7c396fd4830fd04220f754e42b4e5bff   \n",
       "1  128e10d95713541c87cd1a2e48201934  3a51803cc0d012c3b5dc8b7528cb05f7   \n",
       "2  0e7e841ddf8f8f2de2bad69267ecfbcf  ef0996a1a279c26e7ecbd737be23d235   \n",
       "3  bfc39df4f36c3693ff3b63fcbea9e90a  e781fdcc107d13d865fc7698711cc572   \n",
       "4  53cdb2fc8bc7dce0b6741e2150273451  af07308b275d755c9edb36a90c618231   \n",
       "\n",
       "  order_status order_purchase_timestamp   order_approved_at  \\\n",
       "0    delivered      2017-10-02 10:56:33 2017-10-02 11:07:15   \n",
       "1    delivered      2017-08-15 18:29:31 2017-08-15 20:05:16   \n",
       "2    delivered      2017-08-02 18:24:47 2017-08-02 18:43:15   \n",
       "3    delivered      2017-10-23 23:26:46 2017-10-25 02:14:11   \n",
       "4    delivered      2018-07-24 20:41:37 2018-07-26 03:24:27   \n",
       "\n",
       "  order_delivered_timestamp order_estimated_delivery_date  order_item_id  \\\n",
       "0       2017-10-10 21:25:13                    2017-10-18              1   \n",
       "1       2017-08-18 14:44:43                    2017-08-28              1   \n",
       "2       2017-08-07 18:30:01                    2017-08-15              1   \n",
       "3       2017-11-07 18:04:59                    2017-11-13              1   \n",
       "4       2018-08-07 15:27:45                    2018-08-13              1   \n",
       "\n",
       "                         product_id                         seller_id   price  \\\n",
       "0  87285b34884572647811a353c7ac498a  3504c0cb71d7fa48d967e0e4c94d59d9   29.99   \n",
       "1  87285b34884572647811a353c7ac498a  3504c0cb71d7fa48d967e0e4c94d59d9   29.99   \n",
       "2  87285b34884572647811a353c7ac498a  3504c0cb71d7fa48d967e0e4c94d59d9   29.99   \n",
       "3  87285b34884572647811a353c7ac498a  3504c0cb71d7fa48d967e0e4c94d59d9   29.99   \n",
       "4  595fac2a385ac33a80bd5114aec74eb8  289cdb325fb7e7f891c38608bf9e0962  118.70   \n",
       "\n",
       "   shipping_charges product_category_name  product_weight_g  \\\n",
       "0              8.72            housewares             500.0   \n",
       "1              7.78            housewares             500.0   \n",
       "2              7.78            housewares             500.0   \n",
       "3             14.10            housewares             500.0   \n",
       "4             22.76                  toys             400.0   \n",
       "\n",
       "   product_length_cm  product_height_cm  product_width_cm  \n",
       "0               19.0                8.0              13.0  \n",
       "1               19.0                8.0              13.0  \n",
       "2               19.0                8.0              13.0  \n",
       "3               19.0                8.0              13.0  \n",
       "4               19.0               13.0              19.0  "
      ]
     },
     "execution_count": 63,
     "metadata": {},
     "output_type": "execute_result"
    }
   ],
   "source": [
    "Delivered_orders.head()"
   ]
  },
  {
   "cell_type": "code",
   "execution_count": 64,
   "id": "e5f75461",
   "metadata": {},
   "outputs": [
    {
     "data": {
      "text/plain": [
       "(110197, 17)"
      ]
     },
     "execution_count": 64,
     "metadata": {},
     "output_type": "execute_result"
    }
   ],
   "source": [
    "Delivered_orders.shape"
   ]
  },
  {
   "cell_type": "code",
   "execution_count": 65,
   "id": "3a0fc9ac",
   "metadata": {},
   "outputs": [
    {
     "data": {
      "text/plain": [
       "order_id                         0\n",
       "customer_id                      0\n",
       "order_status                     0\n",
       "order_purchase_timestamp         0\n",
       "order_approved_at                0\n",
       "order_delivered_timestamp        0\n",
       "order_estimated_delivery_date    0\n",
       "order_item_id                    0\n",
       "product_id                       0\n",
       "seller_id                        0\n",
       "price                            0\n",
       "shipping_charges                 0\n",
       "product_category_name            0\n",
       "product_weight_g                 0\n",
       "product_length_cm                0\n",
       "product_height_cm                0\n",
       "product_width_cm                 0\n",
       "dtype: int64"
      ]
     },
     "execution_count": 65,
     "metadata": {},
     "output_type": "execute_result"
    }
   ],
   "source": [
    "Delivered_orders.isnull().sum()"
   ]
  },
  {
   "cell_type": "code",
   "execution_count": 66,
   "id": "371343a7",
   "metadata": {},
   "outputs": [],
   "source": [
    "#Merging 'Delivered_orders' with 'Payments_sheet'\n",
    "\n",
    "Delivered_orders = pd.merge(Delivered_orders,Payments_sheet,how='inner',on='order_id')"
   ]
  },
  {
   "cell_type": "code",
   "execution_count": 67,
   "id": "75b25ce1",
   "metadata": {},
   "outputs": [
    {
     "data": {
      "text/html": [
       "<div>\n",
       "<style scoped>\n",
       "    .dataframe tbody tr th:only-of-type {\n",
       "        vertical-align: middle;\n",
       "    }\n",
       "\n",
       "    .dataframe tbody tr th {\n",
       "        vertical-align: top;\n",
       "    }\n",
       "\n",
       "    .dataframe thead th {\n",
       "        text-align: right;\n",
       "    }\n",
       "</style>\n",
       "<table border=\"1\" class=\"dataframe\">\n",
       "  <thead>\n",
       "    <tr style=\"text-align: right;\">\n",
       "      <th></th>\n",
       "      <th>order_id</th>\n",
       "      <th>customer_id</th>\n",
       "      <th>order_status</th>\n",
       "      <th>order_purchase_timestamp</th>\n",
       "      <th>order_approved_at</th>\n",
       "      <th>order_delivered_timestamp</th>\n",
       "      <th>order_estimated_delivery_date</th>\n",
       "      <th>order_item_id</th>\n",
       "      <th>product_id</th>\n",
       "      <th>seller_id</th>\n",
       "      <th>...</th>\n",
       "      <th>shipping_charges</th>\n",
       "      <th>product_category_name</th>\n",
       "      <th>product_weight_g</th>\n",
       "      <th>product_length_cm</th>\n",
       "      <th>product_height_cm</th>\n",
       "      <th>product_width_cm</th>\n",
       "      <th>payment_sequential</th>\n",
       "      <th>payment_type</th>\n",
       "      <th>payment_installments</th>\n",
       "      <th>payment_value</th>\n",
       "    </tr>\n",
       "  </thead>\n",
       "  <tbody>\n",
       "    <tr>\n",
       "      <th>0</th>\n",
       "      <td>e481f51cbdc54678b7cc49136f2d6af7</td>\n",
       "      <td>7c396fd4830fd04220f754e42b4e5bff</td>\n",
       "      <td>delivered</td>\n",
       "      <td>2017-10-02 10:56:33</td>\n",
       "      <td>2017-10-02 11:07:15</td>\n",
       "      <td>2017-10-10 21:25:13</td>\n",
       "      <td>2017-10-18</td>\n",
       "      <td>1</td>\n",
       "      <td>87285b34884572647811a353c7ac498a</td>\n",
       "      <td>3504c0cb71d7fa48d967e0e4c94d59d9</td>\n",
       "      <td>...</td>\n",
       "      <td>8.72</td>\n",
       "      <td>housewares</td>\n",
       "      <td>500.0</td>\n",
       "      <td>19.0</td>\n",
       "      <td>8.0</td>\n",
       "      <td>13.0</td>\n",
       "      <td>1</td>\n",
       "      <td>credit_card</td>\n",
       "      <td>1</td>\n",
       "      <td>18.12</td>\n",
       "    </tr>\n",
       "    <tr>\n",
       "      <th>1</th>\n",
       "      <td>e481f51cbdc54678b7cc49136f2d6af7</td>\n",
       "      <td>7c396fd4830fd04220f754e42b4e5bff</td>\n",
       "      <td>delivered</td>\n",
       "      <td>2017-10-02 10:56:33</td>\n",
       "      <td>2017-10-02 11:07:15</td>\n",
       "      <td>2017-10-10 21:25:13</td>\n",
       "      <td>2017-10-18</td>\n",
       "      <td>1</td>\n",
       "      <td>87285b34884572647811a353c7ac498a</td>\n",
       "      <td>3504c0cb71d7fa48d967e0e4c94d59d9</td>\n",
       "      <td>...</td>\n",
       "      <td>8.72</td>\n",
       "      <td>housewares</td>\n",
       "      <td>500.0</td>\n",
       "      <td>19.0</td>\n",
       "      <td>8.0</td>\n",
       "      <td>13.0</td>\n",
       "      <td>3</td>\n",
       "      <td>voucher</td>\n",
       "      <td>1</td>\n",
       "      <td>2.00</td>\n",
       "    </tr>\n",
       "    <tr>\n",
       "      <th>2</th>\n",
       "      <td>e481f51cbdc54678b7cc49136f2d6af7</td>\n",
       "      <td>7c396fd4830fd04220f754e42b4e5bff</td>\n",
       "      <td>delivered</td>\n",
       "      <td>2017-10-02 10:56:33</td>\n",
       "      <td>2017-10-02 11:07:15</td>\n",
       "      <td>2017-10-10 21:25:13</td>\n",
       "      <td>2017-10-18</td>\n",
       "      <td>1</td>\n",
       "      <td>87285b34884572647811a353c7ac498a</td>\n",
       "      <td>3504c0cb71d7fa48d967e0e4c94d59d9</td>\n",
       "      <td>...</td>\n",
       "      <td>8.72</td>\n",
       "      <td>housewares</td>\n",
       "      <td>500.0</td>\n",
       "      <td>19.0</td>\n",
       "      <td>8.0</td>\n",
       "      <td>13.0</td>\n",
       "      <td>2</td>\n",
       "      <td>voucher</td>\n",
       "      <td>1</td>\n",
       "      <td>18.59</td>\n",
       "    </tr>\n",
       "    <tr>\n",
       "      <th>3</th>\n",
       "      <td>128e10d95713541c87cd1a2e48201934</td>\n",
       "      <td>3a51803cc0d012c3b5dc8b7528cb05f7</td>\n",
       "      <td>delivered</td>\n",
       "      <td>2017-08-15 18:29:31</td>\n",
       "      <td>2017-08-15 20:05:16</td>\n",
       "      <td>2017-08-18 14:44:43</td>\n",
       "      <td>2017-08-28</td>\n",
       "      <td>1</td>\n",
       "      <td>87285b34884572647811a353c7ac498a</td>\n",
       "      <td>3504c0cb71d7fa48d967e0e4c94d59d9</td>\n",
       "      <td>...</td>\n",
       "      <td>7.78</td>\n",
       "      <td>housewares</td>\n",
       "      <td>500.0</td>\n",
       "      <td>19.0</td>\n",
       "      <td>8.0</td>\n",
       "      <td>13.0</td>\n",
       "      <td>1</td>\n",
       "      <td>credit_card</td>\n",
       "      <td>3</td>\n",
       "      <td>37.77</td>\n",
       "    </tr>\n",
       "    <tr>\n",
       "      <th>4</th>\n",
       "      <td>0e7e841ddf8f8f2de2bad69267ecfbcf</td>\n",
       "      <td>ef0996a1a279c26e7ecbd737be23d235</td>\n",
       "      <td>delivered</td>\n",
       "      <td>2017-08-02 18:24:47</td>\n",
       "      <td>2017-08-02 18:43:15</td>\n",
       "      <td>2017-08-07 18:30:01</td>\n",
       "      <td>2017-08-15</td>\n",
       "      <td>1</td>\n",
       "      <td>87285b34884572647811a353c7ac498a</td>\n",
       "      <td>3504c0cb71d7fa48d967e0e4c94d59d9</td>\n",
       "      <td>...</td>\n",
       "      <td>7.78</td>\n",
       "      <td>housewares</td>\n",
       "      <td>500.0</td>\n",
       "      <td>19.0</td>\n",
       "      <td>8.0</td>\n",
       "      <td>13.0</td>\n",
       "      <td>1</td>\n",
       "      <td>credit_card</td>\n",
       "      <td>1</td>\n",
       "      <td>37.77</td>\n",
       "    </tr>\n",
       "  </tbody>\n",
       "</table>\n",
       "<p>5 rows × 21 columns</p>\n",
       "</div>"
      ],
      "text/plain": [
       "                           order_id                       customer_id  \\\n",
       "0  e481f51cbdc54678b7cc49136f2d6af7  7c396fd4830fd04220f754e42b4e5bff   \n",
       "1  e481f51cbdc54678b7cc49136f2d6af7  7c396fd4830fd04220f754e42b4e5bff   \n",
       "2  e481f51cbdc54678b7cc49136f2d6af7  7c396fd4830fd04220f754e42b4e5bff   \n",
       "3  128e10d95713541c87cd1a2e48201934  3a51803cc0d012c3b5dc8b7528cb05f7   \n",
       "4  0e7e841ddf8f8f2de2bad69267ecfbcf  ef0996a1a279c26e7ecbd737be23d235   \n",
       "\n",
       "  order_status order_purchase_timestamp   order_approved_at  \\\n",
       "0    delivered      2017-10-02 10:56:33 2017-10-02 11:07:15   \n",
       "1    delivered      2017-10-02 10:56:33 2017-10-02 11:07:15   \n",
       "2    delivered      2017-10-02 10:56:33 2017-10-02 11:07:15   \n",
       "3    delivered      2017-08-15 18:29:31 2017-08-15 20:05:16   \n",
       "4    delivered      2017-08-02 18:24:47 2017-08-02 18:43:15   \n",
       "\n",
       "  order_delivered_timestamp order_estimated_delivery_date  order_item_id  \\\n",
       "0       2017-10-10 21:25:13                    2017-10-18              1   \n",
       "1       2017-10-10 21:25:13                    2017-10-18              1   \n",
       "2       2017-10-10 21:25:13                    2017-10-18              1   \n",
       "3       2017-08-18 14:44:43                    2017-08-28              1   \n",
       "4       2017-08-07 18:30:01                    2017-08-15              1   \n",
       "\n",
       "                         product_id                         seller_id  ...  \\\n",
       "0  87285b34884572647811a353c7ac498a  3504c0cb71d7fa48d967e0e4c94d59d9  ...   \n",
       "1  87285b34884572647811a353c7ac498a  3504c0cb71d7fa48d967e0e4c94d59d9  ...   \n",
       "2  87285b34884572647811a353c7ac498a  3504c0cb71d7fa48d967e0e4c94d59d9  ...   \n",
       "3  87285b34884572647811a353c7ac498a  3504c0cb71d7fa48d967e0e4c94d59d9  ...   \n",
       "4  87285b34884572647811a353c7ac498a  3504c0cb71d7fa48d967e0e4c94d59d9  ...   \n",
       "\n",
       "   shipping_charges  product_category_name product_weight_g  \\\n",
       "0              8.72             housewares            500.0   \n",
       "1              8.72             housewares            500.0   \n",
       "2              8.72             housewares            500.0   \n",
       "3              7.78             housewares            500.0   \n",
       "4              7.78             housewares            500.0   \n",
       "\n",
       "   product_length_cm  product_height_cm  product_width_cm  payment_sequential  \\\n",
       "0               19.0                8.0              13.0                   1   \n",
       "1               19.0                8.0              13.0                   3   \n",
       "2               19.0                8.0              13.0                   2   \n",
       "3               19.0                8.0              13.0                   1   \n",
       "4               19.0                8.0              13.0                   1   \n",
       "\n",
       "   payment_type payment_installments  payment_value  \n",
       "0   credit_card                    1          18.12  \n",
       "1       voucher                    1           2.00  \n",
       "2       voucher                    1          18.59  \n",
       "3   credit_card                    3          37.77  \n",
       "4   credit_card                    1          37.77  \n",
       "\n",
       "[5 rows x 21 columns]"
      ]
     },
     "execution_count": 67,
     "metadata": {},
     "output_type": "execute_result"
    }
   ],
   "source": [
    "Delivered_orders.head()"
   ]
  },
  {
   "cell_type": "code",
   "execution_count": 68,
   "id": "c787c789",
   "metadata": {},
   "outputs": [
    {
     "data": {
      "text/plain": [
       "(115035, 21)"
      ]
     },
     "execution_count": 68,
     "metadata": {},
     "output_type": "execute_result"
    }
   ],
   "source": [
    "Delivered_orders.shape"
   ]
  },
  {
   "cell_type": "code",
   "execution_count": 69,
   "id": "6e5c7e09",
   "metadata": {},
   "outputs": [
    {
     "data": {
      "text/plain": [
       "order_id                         0\n",
       "customer_id                      0\n",
       "order_status                     0\n",
       "order_purchase_timestamp         0\n",
       "order_approved_at                0\n",
       "order_delivered_timestamp        0\n",
       "order_estimated_delivery_date    0\n",
       "order_item_id                    0\n",
       "product_id                       0\n",
       "seller_id                        0\n",
       "price                            0\n",
       "shipping_charges                 0\n",
       "product_category_name            0\n",
       "product_weight_g                 0\n",
       "product_length_cm                0\n",
       "product_height_cm                0\n",
       "product_width_cm                 0\n",
       "payment_sequential               0\n",
       "payment_type                     0\n",
       "payment_installments             0\n",
       "payment_value                    0\n",
       "dtype: int64"
      ]
     },
     "execution_count": 69,
     "metadata": {},
     "output_type": "execute_result"
    }
   ],
   "source": [
    "Delivered_orders.isnull().sum()"
   ]
  },
  {
   "cell_type": "code",
   "execution_count": 70,
   "id": "3bd18a8d",
   "metadata": {},
   "outputs": [],
   "source": [
    "#Merging 'Delivered_orders' with 'Customers_sheet'\n",
    "\n",
    "Delivered_orders = pd.merge(Delivered_orders,Customers_sheet,how='inner',on='customer_id')"
   ]
  },
  {
   "cell_type": "code",
   "execution_count": 71,
   "id": "f9ee8979",
   "metadata": {},
   "outputs": [
    {
     "data": {
      "text/html": [
       "<div>\n",
       "<style scoped>\n",
       "    .dataframe tbody tr th:only-of-type {\n",
       "        vertical-align: middle;\n",
       "    }\n",
       "\n",
       "    .dataframe tbody tr th {\n",
       "        vertical-align: top;\n",
       "    }\n",
       "\n",
       "    .dataframe thead th {\n",
       "        text-align: right;\n",
       "    }\n",
       "</style>\n",
       "<table border=\"1\" class=\"dataframe\">\n",
       "  <thead>\n",
       "    <tr style=\"text-align: right;\">\n",
       "      <th></th>\n",
       "      <th>order_id</th>\n",
       "      <th>customer_id</th>\n",
       "      <th>order_status</th>\n",
       "      <th>order_purchase_timestamp</th>\n",
       "      <th>order_approved_at</th>\n",
       "      <th>order_delivered_timestamp</th>\n",
       "      <th>order_estimated_delivery_date</th>\n",
       "      <th>order_item_id</th>\n",
       "      <th>product_id</th>\n",
       "      <th>seller_id</th>\n",
       "      <th>...</th>\n",
       "      <th>product_length_cm</th>\n",
       "      <th>product_height_cm</th>\n",
       "      <th>product_width_cm</th>\n",
       "      <th>payment_sequential</th>\n",
       "      <th>payment_type</th>\n",
       "      <th>payment_installments</th>\n",
       "      <th>payment_value</th>\n",
       "      <th>customer_zip_code_prefix</th>\n",
       "      <th>customer_city</th>\n",
       "      <th>customer_state</th>\n",
       "    </tr>\n",
       "  </thead>\n",
       "  <tbody>\n",
       "    <tr>\n",
       "      <th>0</th>\n",
       "      <td>e481f51cbdc54678b7cc49136f2d6af7</td>\n",
       "      <td>7c396fd4830fd04220f754e42b4e5bff</td>\n",
       "      <td>delivered</td>\n",
       "      <td>2017-10-02 10:56:33</td>\n",
       "      <td>2017-10-02 11:07:15</td>\n",
       "      <td>2017-10-10 21:25:13</td>\n",
       "      <td>2017-10-18</td>\n",
       "      <td>1</td>\n",
       "      <td>87285b34884572647811a353c7ac498a</td>\n",
       "      <td>3504c0cb71d7fa48d967e0e4c94d59d9</td>\n",
       "      <td>...</td>\n",
       "      <td>19.0</td>\n",
       "      <td>8.0</td>\n",
       "      <td>13.0</td>\n",
       "      <td>1</td>\n",
       "      <td>credit_card</td>\n",
       "      <td>1</td>\n",
       "      <td>18.12</td>\n",
       "      <td>3149</td>\n",
       "      <td>sao paulo</td>\n",
       "      <td>SP</td>\n",
       "    </tr>\n",
       "    <tr>\n",
       "      <th>1</th>\n",
       "      <td>e481f51cbdc54678b7cc49136f2d6af7</td>\n",
       "      <td>7c396fd4830fd04220f754e42b4e5bff</td>\n",
       "      <td>delivered</td>\n",
       "      <td>2017-10-02 10:56:33</td>\n",
       "      <td>2017-10-02 11:07:15</td>\n",
       "      <td>2017-10-10 21:25:13</td>\n",
       "      <td>2017-10-18</td>\n",
       "      <td>1</td>\n",
       "      <td>87285b34884572647811a353c7ac498a</td>\n",
       "      <td>3504c0cb71d7fa48d967e0e4c94d59d9</td>\n",
       "      <td>...</td>\n",
       "      <td>19.0</td>\n",
       "      <td>8.0</td>\n",
       "      <td>13.0</td>\n",
       "      <td>3</td>\n",
       "      <td>voucher</td>\n",
       "      <td>1</td>\n",
       "      <td>2.00</td>\n",
       "      <td>3149</td>\n",
       "      <td>sao paulo</td>\n",
       "      <td>SP</td>\n",
       "    </tr>\n",
       "    <tr>\n",
       "      <th>2</th>\n",
       "      <td>e481f51cbdc54678b7cc49136f2d6af7</td>\n",
       "      <td>7c396fd4830fd04220f754e42b4e5bff</td>\n",
       "      <td>delivered</td>\n",
       "      <td>2017-10-02 10:56:33</td>\n",
       "      <td>2017-10-02 11:07:15</td>\n",
       "      <td>2017-10-10 21:25:13</td>\n",
       "      <td>2017-10-18</td>\n",
       "      <td>1</td>\n",
       "      <td>87285b34884572647811a353c7ac498a</td>\n",
       "      <td>3504c0cb71d7fa48d967e0e4c94d59d9</td>\n",
       "      <td>...</td>\n",
       "      <td>19.0</td>\n",
       "      <td>8.0</td>\n",
       "      <td>13.0</td>\n",
       "      <td>2</td>\n",
       "      <td>voucher</td>\n",
       "      <td>1</td>\n",
       "      <td>18.59</td>\n",
       "      <td>3149</td>\n",
       "      <td>sao paulo</td>\n",
       "      <td>SP</td>\n",
       "    </tr>\n",
       "    <tr>\n",
       "      <th>3</th>\n",
       "      <td>69923a4e07ce446644394df37a710286</td>\n",
       "      <td>7c396fd4830fd04220f754e42b4e5bff</td>\n",
       "      <td>delivered</td>\n",
       "      <td>2017-09-04 11:26:38</td>\n",
       "      <td>2017-09-04 11:43:25</td>\n",
       "      <td>2017-09-05 19:20:20</td>\n",
       "      <td>2017-09-15</td>\n",
       "      <td>1</td>\n",
       "      <td>9abb00920aae319ef9eba674b7d2e6ff</td>\n",
       "      <td>1771297ac436903d1dd6b0e9279aa505</td>\n",
       "      <td>...</td>\n",
       "      <td>19.0</td>\n",
       "      <td>14.0</td>\n",
       "      <td>12.0</td>\n",
       "      <td>1</td>\n",
       "      <td>credit_card</td>\n",
       "      <td>1</td>\n",
       "      <td>44.11</td>\n",
       "      <td>3149</td>\n",
       "      <td>sao paulo</td>\n",
       "      <td>SP</td>\n",
       "    </tr>\n",
       "    <tr>\n",
       "      <th>4</th>\n",
       "      <td>128e10d95713541c87cd1a2e48201934</td>\n",
       "      <td>3a51803cc0d012c3b5dc8b7528cb05f7</td>\n",
       "      <td>delivered</td>\n",
       "      <td>2017-08-15 18:29:31</td>\n",
       "      <td>2017-08-15 20:05:16</td>\n",
       "      <td>2017-08-18 14:44:43</td>\n",
       "      <td>2017-08-28</td>\n",
       "      <td>1</td>\n",
       "      <td>87285b34884572647811a353c7ac498a</td>\n",
       "      <td>3504c0cb71d7fa48d967e0e4c94d59d9</td>\n",
       "      <td>...</td>\n",
       "      <td>19.0</td>\n",
       "      <td>8.0</td>\n",
       "      <td>13.0</td>\n",
       "      <td>1</td>\n",
       "      <td>credit_card</td>\n",
       "      <td>3</td>\n",
       "      <td>37.77</td>\n",
       "      <td>3366</td>\n",
       "      <td>sao paulo</td>\n",
       "      <td>SP</td>\n",
       "    </tr>\n",
       "  </tbody>\n",
       "</table>\n",
       "<p>5 rows × 24 columns</p>\n",
       "</div>"
      ],
      "text/plain": [
       "                           order_id                       customer_id  \\\n",
       "0  e481f51cbdc54678b7cc49136f2d6af7  7c396fd4830fd04220f754e42b4e5bff   \n",
       "1  e481f51cbdc54678b7cc49136f2d6af7  7c396fd4830fd04220f754e42b4e5bff   \n",
       "2  e481f51cbdc54678b7cc49136f2d6af7  7c396fd4830fd04220f754e42b4e5bff   \n",
       "3  69923a4e07ce446644394df37a710286  7c396fd4830fd04220f754e42b4e5bff   \n",
       "4  128e10d95713541c87cd1a2e48201934  3a51803cc0d012c3b5dc8b7528cb05f7   \n",
       "\n",
       "  order_status order_purchase_timestamp   order_approved_at  \\\n",
       "0    delivered      2017-10-02 10:56:33 2017-10-02 11:07:15   \n",
       "1    delivered      2017-10-02 10:56:33 2017-10-02 11:07:15   \n",
       "2    delivered      2017-10-02 10:56:33 2017-10-02 11:07:15   \n",
       "3    delivered      2017-09-04 11:26:38 2017-09-04 11:43:25   \n",
       "4    delivered      2017-08-15 18:29:31 2017-08-15 20:05:16   \n",
       "\n",
       "  order_delivered_timestamp order_estimated_delivery_date  order_item_id  \\\n",
       "0       2017-10-10 21:25:13                    2017-10-18              1   \n",
       "1       2017-10-10 21:25:13                    2017-10-18              1   \n",
       "2       2017-10-10 21:25:13                    2017-10-18              1   \n",
       "3       2017-09-05 19:20:20                    2017-09-15              1   \n",
       "4       2017-08-18 14:44:43                    2017-08-28              1   \n",
       "\n",
       "                         product_id                         seller_id  ...  \\\n",
       "0  87285b34884572647811a353c7ac498a  3504c0cb71d7fa48d967e0e4c94d59d9  ...   \n",
       "1  87285b34884572647811a353c7ac498a  3504c0cb71d7fa48d967e0e4c94d59d9  ...   \n",
       "2  87285b34884572647811a353c7ac498a  3504c0cb71d7fa48d967e0e4c94d59d9  ...   \n",
       "3  9abb00920aae319ef9eba674b7d2e6ff  1771297ac436903d1dd6b0e9279aa505  ...   \n",
       "4  87285b34884572647811a353c7ac498a  3504c0cb71d7fa48d967e0e4c94d59d9  ...   \n",
       "\n",
       "   product_length_cm  product_height_cm product_width_cm  payment_sequential  \\\n",
       "0               19.0                8.0             13.0                   1   \n",
       "1               19.0                8.0             13.0                   3   \n",
       "2               19.0                8.0             13.0                   2   \n",
       "3               19.0               14.0             12.0                   1   \n",
       "4               19.0                8.0             13.0                   1   \n",
       "\n",
       "   payment_type  payment_installments  payment_value  \\\n",
       "0   credit_card                     1          18.12   \n",
       "1       voucher                     1           2.00   \n",
       "2       voucher                     1          18.59   \n",
       "3   credit_card                     1          44.11   \n",
       "4   credit_card                     3          37.77   \n",
       "\n",
       "   customer_zip_code_prefix customer_city  customer_state  \n",
       "0                      3149     sao paulo              SP  \n",
       "1                      3149     sao paulo              SP  \n",
       "2                      3149     sao paulo              SP  \n",
       "3                      3149     sao paulo              SP  \n",
       "4                      3366     sao paulo              SP  \n",
       "\n",
       "[5 rows x 24 columns]"
      ]
     },
     "execution_count": 71,
     "metadata": {},
     "output_type": "execute_result"
    }
   ],
   "source": [
    "Delivered_orders.head()"
   ]
  },
  {
   "cell_type": "code",
   "execution_count": 72,
   "id": "fff3467e",
   "metadata": {},
   "outputs": [
    {
     "data": {
      "text/plain": [
       "(115035, 24)"
      ]
     },
     "execution_count": 72,
     "metadata": {},
     "output_type": "execute_result"
    }
   ],
   "source": [
    "Delivered_orders.shape"
   ]
  },
  {
   "cell_type": "code",
   "execution_count": 73,
   "id": "92642a7a",
   "metadata": {},
   "outputs": [
    {
     "data": {
      "text/plain": [
       "order_id                         0\n",
       "customer_id                      0\n",
       "order_status                     0\n",
       "order_purchase_timestamp         0\n",
       "order_approved_at                0\n",
       "order_delivered_timestamp        0\n",
       "order_estimated_delivery_date    0\n",
       "order_item_id                    0\n",
       "product_id                       0\n",
       "seller_id                        0\n",
       "price                            0\n",
       "shipping_charges                 0\n",
       "product_category_name            0\n",
       "product_weight_g                 0\n",
       "product_length_cm                0\n",
       "product_height_cm                0\n",
       "product_width_cm                 0\n",
       "payment_sequential               0\n",
       "payment_type                     0\n",
       "payment_installments             0\n",
       "payment_value                    0\n",
       "customer_zip_code_prefix         0\n",
       "customer_city                    0\n",
       "customer_state                   0\n",
       "dtype: int64"
      ]
     },
     "execution_count": 73,
     "metadata": {},
     "output_type": "execute_result"
    }
   ],
   "source": [
    "Delivered_orders.isna().sum()"
   ]
  },
  {
   "cell_type": "code",
   "execution_count": 74,
   "id": "0304e61a",
   "metadata": {},
   "outputs": [
    {
     "data": {
      "text/plain": [
       "Index(['order_id', 'customer_id', 'order_status', 'order_purchase_timestamp',\n",
       "       'order_approved_at', 'order_delivered_timestamp',\n",
       "       'order_estimated_delivery_date', 'order_item_id', 'product_id',\n",
       "       'seller_id', 'price', 'shipping_charges', 'product_category_name',\n",
       "       'product_weight_g', 'product_length_cm', 'product_height_cm',\n",
       "       'product_width_cm', 'payment_sequential', 'payment_type',\n",
       "       'payment_installments', 'payment_value', 'customer_zip_code_prefix',\n",
       "       'customer_city', 'customer_state'],\n",
       "      dtype='object')"
      ]
     },
     "execution_count": 74,
     "metadata": {},
     "output_type": "execute_result"
    }
   ],
   "source": [
    "Delivered_orders.columns"
   ]
  },
  {
   "cell_type": "markdown",
   "id": "34ebbb56",
   "metadata": {},
   "source": [
    "- Now we have merged all the data frames into one data frame we need to do Market Basket Analysis"
   ]
  },
  {
   "cell_type": "markdown",
   "id": "8ff30712",
   "metadata": {},
   "source": [
    "### Market Basket Analysis Using Association Rules and Aprior Algorithm"
   ]
  },
  {
   "cell_type": "code",
   "execution_count": 75,
   "id": "8ad2715d",
   "metadata": {},
   "outputs": [],
   "source": [
    "from mlxtend.frequent_patterns import apriori\n",
    "from mlxtend.frequent_patterns import association_rules\n",
    "\n",
    "import warnings\n",
    "warnings.filterwarnings(\"ignore\", category=DeprecationWarning)"
   ]
  },
  {
   "cell_type": "code",
   "execution_count": 76,
   "id": "750ce8d3",
   "metadata": {},
   "outputs": [
    {
     "data": {
      "text/html": [
       "<div>\n",
       "<style scoped>\n",
       "    .dataframe tbody tr th:only-of-type {\n",
       "        vertical-align: middle;\n",
       "    }\n",
       "\n",
       "    .dataframe tbody tr th {\n",
       "        vertical-align: top;\n",
       "    }\n",
       "\n",
       "    .dataframe thead th {\n",
       "        text-align: right;\n",
       "    }\n",
       "</style>\n",
       "<table border=\"1\" class=\"dataframe\">\n",
       "  <thead>\n",
       "    <tr style=\"text-align: right;\">\n",
       "      <th></th>\n",
       "      <th>order_id</th>\n",
       "      <th>customer_id</th>\n",
       "      <th>order_status</th>\n",
       "      <th>order_purchase_timestamp</th>\n",
       "      <th>order_approved_at</th>\n",
       "      <th>order_delivered_timestamp</th>\n",
       "      <th>order_estimated_delivery_date</th>\n",
       "      <th>order_item_id</th>\n",
       "      <th>product_id</th>\n",
       "      <th>seller_id</th>\n",
       "      <th>...</th>\n",
       "      <th>product_length_cm</th>\n",
       "      <th>product_height_cm</th>\n",
       "      <th>product_width_cm</th>\n",
       "      <th>payment_sequential</th>\n",
       "      <th>payment_type</th>\n",
       "      <th>payment_installments</th>\n",
       "      <th>payment_value</th>\n",
       "      <th>customer_zip_code_prefix</th>\n",
       "      <th>customer_city</th>\n",
       "      <th>customer_state</th>\n",
       "    </tr>\n",
       "  </thead>\n",
       "  <tbody>\n",
       "    <tr>\n",
       "      <th>0</th>\n",
       "      <td>e481f51cbdc54678b7cc49136f2d6af7</td>\n",
       "      <td>7c396fd4830fd04220f754e42b4e5bff</td>\n",
       "      <td>delivered</td>\n",
       "      <td>2017-10-02 10:56:33</td>\n",
       "      <td>2017-10-02 11:07:15</td>\n",
       "      <td>2017-10-10 21:25:13</td>\n",
       "      <td>2017-10-18</td>\n",
       "      <td>1</td>\n",
       "      <td>87285b34884572647811a353c7ac498a</td>\n",
       "      <td>3504c0cb71d7fa48d967e0e4c94d59d9</td>\n",
       "      <td>...</td>\n",
       "      <td>19.0</td>\n",
       "      <td>8.0</td>\n",
       "      <td>13.0</td>\n",
       "      <td>1</td>\n",
       "      <td>credit_card</td>\n",
       "      <td>1</td>\n",
       "      <td>18.12</td>\n",
       "      <td>3149</td>\n",
       "      <td>sao paulo</td>\n",
       "      <td>SP</td>\n",
       "    </tr>\n",
       "    <tr>\n",
       "      <th>1</th>\n",
       "      <td>e481f51cbdc54678b7cc49136f2d6af7</td>\n",
       "      <td>7c396fd4830fd04220f754e42b4e5bff</td>\n",
       "      <td>delivered</td>\n",
       "      <td>2017-10-02 10:56:33</td>\n",
       "      <td>2017-10-02 11:07:15</td>\n",
       "      <td>2017-10-10 21:25:13</td>\n",
       "      <td>2017-10-18</td>\n",
       "      <td>1</td>\n",
       "      <td>87285b34884572647811a353c7ac498a</td>\n",
       "      <td>3504c0cb71d7fa48d967e0e4c94d59d9</td>\n",
       "      <td>...</td>\n",
       "      <td>19.0</td>\n",
       "      <td>8.0</td>\n",
       "      <td>13.0</td>\n",
       "      <td>3</td>\n",
       "      <td>voucher</td>\n",
       "      <td>1</td>\n",
       "      <td>2.00</td>\n",
       "      <td>3149</td>\n",
       "      <td>sao paulo</td>\n",
       "      <td>SP</td>\n",
       "    </tr>\n",
       "    <tr>\n",
       "      <th>2</th>\n",
       "      <td>e481f51cbdc54678b7cc49136f2d6af7</td>\n",
       "      <td>7c396fd4830fd04220f754e42b4e5bff</td>\n",
       "      <td>delivered</td>\n",
       "      <td>2017-10-02 10:56:33</td>\n",
       "      <td>2017-10-02 11:07:15</td>\n",
       "      <td>2017-10-10 21:25:13</td>\n",
       "      <td>2017-10-18</td>\n",
       "      <td>1</td>\n",
       "      <td>87285b34884572647811a353c7ac498a</td>\n",
       "      <td>3504c0cb71d7fa48d967e0e4c94d59d9</td>\n",
       "      <td>...</td>\n",
       "      <td>19.0</td>\n",
       "      <td>8.0</td>\n",
       "      <td>13.0</td>\n",
       "      <td>2</td>\n",
       "      <td>voucher</td>\n",
       "      <td>1</td>\n",
       "      <td>18.59</td>\n",
       "      <td>3149</td>\n",
       "      <td>sao paulo</td>\n",
       "      <td>SP</td>\n",
       "    </tr>\n",
       "    <tr>\n",
       "      <th>3</th>\n",
       "      <td>69923a4e07ce446644394df37a710286</td>\n",
       "      <td>7c396fd4830fd04220f754e42b4e5bff</td>\n",
       "      <td>delivered</td>\n",
       "      <td>2017-09-04 11:26:38</td>\n",
       "      <td>2017-09-04 11:43:25</td>\n",
       "      <td>2017-09-05 19:20:20</td>\n",
       "      <td>2017-09-15</td>\n",
       "      <td>1</td>\n",
       "      <td>9abb00920aae319ef9eba674b7d2e6ff</td>\n",
       "      <td>1771297ac436903d1dd6b0e9279aa505</td>\n",
       "      <td>...</td>\n",
       "      <td>19.0</td>\n",
       "      <td>14.0</td>\n",
       "      <td>12.0</td>\n",
       "      <td>1</td>\n",
       "      <td>credit_card</td>\n",
       "      <td>1</td>\n",
       "      <td>44.11</td>\n",
       "      <td>3149</td>\n",
       "      <td>sao paulo</td>\n",
       "      <td>SP</td>\n",
       "    </tr>\n",
       "    <tr>\n",
       "      <th>4</th>\n",
       "      <td>128e10d95713541c87cd1a2e48201934</td>\n",
       "      <td>3a51803cc0d012c3b5dc8b7528cb05f7</td>\n",
       "      <td>delivered</td>\n",
       "      <td>2017-08-15 18:29:31</td>\n",
       "      <td>2017-08-15 20:05:16</td>\n",
       "      <td>2017-08-18 14:44:43</td>\n",
       "      <td>2017-08-28</td>\n",
       "      <td>1</td>\n",
       "      <td>87285b34884572647811a353c7ac498a</td>\n",
       "      <td>3504c0cb71d7fa48d967e0e4c94d59d9</td>\n",
       "      <td>...</td>\n",
       "      <td>19.0</td>\n",
       "      <td>8.0</td>\n",
       "      <td>13.0</td>\n",
       "      <td>1</td>\n",
       "      <td>credit_card</td>\n",
       "      <td>3</td>\n",
       "      <td>37.77</td>\n",
       "      <td>3366</td>\n",
       "      <td>sao paulo</td>\n",
       "      <td>SP</td>\n",
       "    </tr>\n",
       "  </tbody>\n",
       "</table>\n",
       "<p>5 rows × 24 columns</p>\n",
       "</div>"
      ],
      "text/plain": [
       "                           order_id                       customer_id  \\\n",
       "0  e481f51cbdc54678b7cc49136f2d6af7  7c396fd4830fd04220f754e42b4e5bff   \n",
       "1  e481f51cbdc54678b7cc49136f2d6af7  7c396fd4830fd04220f754e42b4e5bff   \n",
       "2  e481f51cbdc54678b7cc49136f2d6af7  7c396fd4830fd04220f754e42b4e5bff   \n",
       "3  69923a4e07ce446644394df37a710286  7c396fd4830fd04220f754e42b4e5bff   \n",
       "4  128e10d95713541c87cd1a2e48201934  3a51803cc0d012c3b5dc8b7528cb05f7   \n",
       "\n",
       "  order_status order_purchase_timestamp   order_approved_at  \\\n",
       "0    delivered      2017-10-02 10:56:33 2017-10-02 11:07:15   \n",
       "1    delivered      2017-10-02 10:56:33 2017-10-02 11:07:15   \n",
       "2    delivered      2017-10-02 10:56:33 2017-10-02 11:07:15   \n",
       "3    delivered      2017-09-04 11:26:38 2017-09-04 11:43:25   \n",
       "4    delivered      2017-08-15 18:29:31 2017-08-15 20:05:16   \n",
       "\n",
       "  order_delivered_timestamp order_estimated_delivery_date  order_item_id  \\\n",
       "0       2017-10-10 21:25:13                    2017-10-18              1   \n",
       "1       2017-10-10 21:25:13                    2017-10-18              1   \n",
       "2       2017-10-10 21:25:13                    2017-10-18              1   \n",
       "3       2017-09-05 19:20:20                    2017-09-15              1   \n",
       "4       2017-08-18 14:44:43                    2017-08-28              1   \n",
       "\n",
       "                         product_id                         seller_id  ...  \\\n",
       "0  87285b34884572647811a353c7ac498a  3504c0cb71d7fa48d967e0e4c94d59d9  ...   \n",
       "1  87285b34884572647811a353c7ac498a  3504c0cb71d7fa48d967e0e4c94d59d9  ...   \n",
       "2  87285b34884572647811a353c7ac498a  3504c0cb71d7fa48d967e0e4c94d59d9  ...   \n",
       "3  9abb00920aae319ef9eba674b7d2e6ff  1771297ac436903d1dd6b0e9279aa505  ...   \n",
       "4  87285b34884572647811a353c7ac498a  3504c0cb71d7fa48d967e0e4c94d59d9  ...   \n",
       "\n",
       "   product_length_cm  product_height_cm product_width_cm  payment_sequential  \\\n",
       "0               19.0                8.0             13.0                   1   \n",
       "1               19.0                8.0             13.0                   3   \n",
       "2               19.0                8.0             13.0                   2   \n",
       "3               19.0               14.0             12.0                   1   \n",
       "4               19.0                8.0             13.0                   1   \n",
       "\n",
       "   payment_type  payment_installments  payment_value  \\\n",
       "0   credit_card                     1          18.12   \n",
       "1       voucher                     1           2.00   \n",
       "2       voucher                     1          18.59   \n",
       "3   credit_card                     1          44.11   \n",
       "4   credit_card                     3          37.77   \n",
       "\n",
       "   customer_zip_code_prefix customer_city  customer_state  \n",
       "0                      3149     sao paulo              SP  \n",
       "1                      3149     sao paulo              SP  \n",
       "2                      3149     sao paulo              SP  \n",
       "3                      3149     sao paulo              SP  \n",
       "4                      3366     sao paulo              SP  \n",
       "\n",
       "[5 rows x 24 columns]"
      ]
     },
     "execution_count": 76,
     "metadata": {},
     "output_type": "execute_result"
    }
   ],
   "source": [
    "Delivered_orders.head()"
   ]
  },
  {
   "cell_type": "code",
   "execution_count": 77,
   "id": "92068e35",
   "metadata": {},
   "outputs": [],
   "source": [
    "#Creating a new dataframe with only the required columns for analysis\n",
    "\n",
    "MBA_set = Delivered_orders[['order_id','product_category_name', 'order_item_id']]"
   ]
  },
  {
   "cell_type": "code",
   "execution_count": 78,
   "id": "7e12c8b3",
   "metadata": {},
   "outputs": [
    {
     "data": {
      "text/plain": [
       "(115035, 3)"
      ]
     },
     "execution_count": 78,
     "metadata": {},
     "output_type": "execute_result"
    }
   ],
   "source": [
    "MBA_set.shape"
   ]
  },
  {
   "cell_type": "code",
   "execution_count": 79,
   "id": "c2d28a0c",
   "metadata": {},
   "outputs": [
    {
     "data": {
      "text/plain": [
       "4841"
      ]
     },
     "execution_count": 79,
     "metadata": {},
     "output_type": "execute_result"
    }
   ],
   "source": [
    "#Checking the duplicates after updating\n",
    "\n",
    "MBA_set.duplicated().sum()"
   ]
  },
  {
   "cell_type": "code",
   "execution_count": 80,
   "id": "1dcb8d8e",
   "metadata": {},
   "outputs": [],
   "source": [
    "#Dropping the duplicates keeping the first occurence\n",
    "\n",
    "MBA_set.drop_duplicates(keep='first', inplace=True)"
   ]
  },
  {
   "cell_type": "code",
   "execution_count": 81,
   "id": "e17ef494",
   "metadata": {},
   "outputs": [
    {
     "data": {
      "text/plain": [
       "(110194, 3)"
      ]
     },
     "execution_count": 81,
     "metadata": {},
     "output_type": "execute_result"
    }
   ],
   "source": [
    "MBA_set.shape"
   ]
  },
  {
   "cell_type": "code",
   "execution_count": 82,
   "id": "7f93c698",
   "metadata": {},
   "outputs": [
    {
     "name": "stdout",
     "output_type": "stream",
     "text": [
      "<class 'pandas.core.frame.DataFrame'>\n",
      "Int64Index: 110194 entries, 0 to 115034\n",
      "Data columns (total 3 columns):\n",
      " #   Column                 Non-Null Count   Dtype \n",
      "---  ------                 --------------   ----- \n",
      " 0   order_id               110194 non-null  object\n",
      " 1   product_category_name  110194 non-null  object\n",
      " 2   order_item_id          110194 non-null  int64 \n",
      "dtypes: int64(1), object(2)\n",
      "memory usage: 3.4+ MB\n"
     ]
    }
   ],
   "source": [
    "MBA_set.info()"
   ]
  },
  {
   "cell_type": "code",
   "execution_count": 84,
   "id": "2c6fc2aa",
   "metadata": {},
   "outputs": [],
   "source": [
    "#Again Creating a new dataframe using pandas pivot, this is required for basket analysis\n",
    "\n",
    "MBA_Data = pd.pivot_table(data=MBA_set,index='order_id',columns='product_category_name',\n",
    "                              values='order_item_id',fill_value=0)"
   ]
  },
  {
   "cell_type": "code",
   "execution_count": 85,
   "id": "9e9b6741",
   "metadata": {},
   "outputs": [
    {
     "data": {
      "text/html": [
       "<div>\n",
       "<style scoped>\n",
       "    .dataframe tbody tr th:only-of-type {\n",
       "        vertical-align: middle;\n",
       "    }\n",
       "\n",
       "    .dataframe tbody tr th {\n",
       "        vertical-align: top;\n",
       "    }\n",
       "\n",
       "    .dataframe thead th {\n",
       "        text-align: right;\n",
       "    }\n",
       "</style>\n",
       "<table border=\"1\" class=\"dataframe\">\n",
       "  <thead>\n",
       "    <tr style=\"text-align: right;\">\n",
       "      <th>product_category_name</th>\n",
       "      <th>agro_industry_and_commerce</th>\n",
       "      <th>air_conditioning</th>\n",
       "      <th>art</th>\n",
       "      <th>arts_and_craftmanship</th>\n",
       "      <th>audio</th>\n",
       "      <th>auto</th>\n",
       "      <th>baby</th>\n",
       "      <th>bed_bath_table</th>\n",
       "      <th>books_general_interest</th>\n",
       "      <th>books_imported</th>\n",
       "      <th>...</th>\n",
       "      <th>security_and_services</th>\n",
       "      <th>signaling_and_security</th>\n",
       "      <th>small_appliances</th>\n",
       "      <th>small_appliances_home_oven_and_coffee</th>\n",
       "      <th>sports_leisure</th>\n",
       "      <th>stationery</th>\n",
       "      <th>tablets_printing_image</th>\n",
       "      <th>telephony</th>\n",
       "      <th>toys</th>\n",
       "      <th>watches_gifts</th>\n",
       "    </tr>\n",
       "    <tr>\n",
       "      <th>order_id</th>\n",
       "      <th></th>\n",
       "      <th></th>\n",
       "      <th></th>\n",
       "      <th></th>\n",
       "      <th></th>\n",
       "      <th></th>\n",
       "      <th></th>\n",
       "      <th></th>\n",
       "      <th></th>\n",
       "      <th></th>\n",
       "      <th></th>\n",
       "      <th></th>\n",
       "      <th></th>\n",
       "      <th></th>\n",
       "      <th></th>\n",
       "      <th></th>\n",
       "      <th></th>\n",
       "      <th></th>\n",
       "      <th></th>\n",
       "      <th></th>\n",
       "      <th></th>\n",
       "    </tr>\n",
       "  </thead>\n",
       "  <tbody>\n",
       "    <tr>\n",
       "      <th>00010242fe8c5a6d1ba2dd792cb16214</th>\n",
       "      <td>0.0</td>\n",
       "      <td>0.0</td>\n",
       "      <td>0</td>\n",
       "      <td>0</td>\n",
       "      <td>0.0</td>\n",
       "      <td>0.0</td>\n",
       "      <td>0.0</td>\n",
       "      <td>0.0</td>\n",
       "      <td>0.0</td>\n",
       "      <td>0.0</td>\n",
       "      <td>...</td>\n",
       "      <td>0</td>\n",
       "      <td>0.0</td>\n",
       "      <td>0.0</td>\n",
       "      <td>0</td>\n",
       "      <td>0.0</td>\n",
       "      <td>0.0</td>\n",
       "      <td>0.0</td>\n",
       "      <td>0.0</td>\n",
       "      <td>1.0</td>\n",
       "      <td>0.0</td>\n",
       "    </tr>\n",
       "    <tr>\n",
       "      <th>00018f77f2f0320c557190d7a144bdd3</th>\n",
       "      <td>0.0</td>\n",
       "      <td>0.0</td>\n",
       "      <td>0</td>\n",
       "      <td>0</td>\n",
       "      <td>0.0</td>\n",
       "      <td>0.0</td>\n",
       "      <td>0.0</td>\n",
       "      <td>0.0</td>\n",
       "      <td>0.0</td>\n",
       "      <td>0.0</td>\n",
       "      <td>...</td>\n",
       "      <td>0</td>\n",
       "      <td>0.0</td>\n",
       "      <td>0.0</td>\n",
       "      <td>0</td>\n",
       "      <td>0.0</td>\n",
       "      <td>0.0</td>\n",
       "      <td>0.0</td>\n",
       "      <td>0.0</td>\n",
       "      <td>1.0</td>\n",
       "      <td>0.0</td>\n",
       "    </tr>\n",
       "    <tr>\n",
       "      <th>000229ec398224ef6ca0657da4fc703e</th>\n",
       "      <td>0.0</td>\n",
       "      <td>0.0</td>\n",
       "      <td>0</td>\n",
       "      <td>0</td>\n",
       "      <td>0.0</td>\n",
       "      <td>0.0</td>\n",
       "      <td>0.0</td>\n",
       "      <td>0.0</td>\n",
       "      <td>0.0</td>\n",
       "      <td>0.0</td>\n",
       "      <td>...</td>\n",
       "      <td>0</td>\n",
       "      <td>0.0</td>\n",
       "      <td>0.0</td>\n",
       "      <td>0</td>\n",
       "      <td>0.0</td>\n",
       "      <td>0.0</td>\n",
       "      <td>0.0</td>\n",
       "      <td>0.0</td>\n",
       "      <td>1.0</td>\n",
       "      <td>0.0</td>\n",
       "    </tr>\n",
       "    <tr>\n",
       "      <th>00024acbcdf0a6daa1e931b038114c75</th>\n",
       "      <td>0.0</td>\n",
       "      <td>0.0</td>\n",
       "      <td>0</td>\n",
       "      <td>0</td>\n",
       "      <td>0.0</td>\n",
       "      <td>0.0</td>\n",
       "      <td>0.0</td>\n",
       "      <td>0.0</td>\n",
       "      <td>0.0</td>\n",
       "      <td>0.0</td>\n",
       "      <td>...</td>\n",
       "      <td>0</td>\n",
       "      <td>0.0</td>\n",
       "      <td>0.0</td>\n",
       "      <td>0</td>\n",
       "      <td>0.0</td>\n",
       "      <td>0.0</td>\n",
       "      <td>0.0</td>\n",
       "      <td>0.0</td>\n",
       "      <td>1.0</td>\n",
       "      <td>0.0</td>\n",
       "    </tr>\n",
       "    <tr>\n",
       "      <th>00042b26cf59d7ce69dfabb4e55b4fd9</th>\n",
       "      <td>0.0</td>\n",
       "      <td>0.0</td>\n",
       "      <td>0</td>\n",
       "      <td>0</td>\n",
       "      <td>0.0</td>\n",
       "      <td>0.0</td>\n",
       "      <td>0.0</td>\n",
       "      <td>0.0</td>\n",
       "      <td>0.0</td>\n",
       "      <td>0.0</td>\n",
       "      <td>...</td>\n",
       "      <td>0</td>\n",
       "      <td>0.0</td>\n",
       "      <td>0.0</td>\n",
       "      <td>0</td>\n",
       "      <td>0.0</td>\n",
       "      <td>0.0</td>\n",
       "      <td>0.0</td>\n",
       "      <td>0.0</td>\n",
       "      <td>1.0</td>\n",
       "      <td>0.0</td>\n",
       "    </tr>\n",
       "  </tbody>\n",
       "</table>\n",
       "<p>5 rows × 70 columns</p>\n",
       "</div>"
      ],
      "text/plain": [
       "product_category_name             agro_industry_and_commerce  \\\n",
       "order_id                                                       \n",
       "00010242fe8c5a6d1ba2dd792cb16214                         0.0   \n",
       "00018f77f2f0320c557190d7a144bdd3                         0.0   \n",
       "000229ec398224ef6ca0657da4fc703e                         0.0   \n",
       "00024acbcdf0a6daa1e931b038114c75                         0.0   \n",
       "00042b26cf59d7ce69dfabb4e55b4fd9                         0.0   \n",
       "\n",
       "product_category_name             air_conditioning  art  \\\n",
       "order_id                                                  \n",
       "00010242fe8c5a6d1ba2dd792cb16214               0.0    0   \n",
       "00018f77f2f0320c557190d7a144bdd3               0.0    0   \n",
       "000229ec398224ef6ca0657da4fc703e               0.0    0   \n",
       "00024acbcdf0a6daa1e931b038114c75               0.0    0   \n",
       "00042b26cf59d7ce69dfabb4e55b4fd9               0.0    0   \n",
       "\n",
       "product_category_name             arts_and_craftmanship  audio  auto  baby  \\\n",
       "order_id                                                                     \n",
       "00010242fe8c5a6d1ba2dd792cb16214                      0    0.0   0.0   0.0   \n",
       "00018f77f2f0320c557190d7a144bdd3                      0    0.0   0.0   0.0   \n",
       "000229ec398224ef6ca0657da4fc703e                      0    0.0   0.0   0.0   \n",
       "00024acbcdf0a6daa1e931b038114c75                      0    0.0   0.0   0.0   \n",
       "00042b26cf59d7ce69dfabb4e55b4fd9                      0    0.0   0.0   0.0   \n",
       "\n",
       "product_category_name             bed_bath_table  books_general_interest  \\\n",
       "order_id                                                                   \n",
       "00010242fe8c5a6d1ba2dd792cb16214             0.0                     0.0   \n",
       "00018f77f2f0320c557190d7a144bdd3             0.0                     0.0   \n",
       "000229ec398224ef6ca0657da4fc703e             0.0                     0.0   \n",
       "00024acbcdf0a6daa1e931b038114c75             0.0                     0.0   \n",
       "00042b26cf59d7ce69dfabb4e55b4fd9             0.0                     0.0   \n",
       "\n",
       "product_category_name             books_imported  ...  security_and_services  \\\n",
       "order_id                                          ...                          \n",
       "00010242fe8c5a6d1ba2dd792cb16214             0.0  ...                      0   \n",
       "00018f77f2f0320c557190d7a144bdd3             0.0  ...                      0   \n",
       "000229ec398224ef6ca0657da4fc703e             0.0  ...                      0   \n",
       "00024acbcdf0a6daa1e931b038114c75             0.0  ...                      0   \n",
       "00042b26cf59d7ce69dfabb4e55b4fd9             0.0  ...                      0   \n",
       "\n",
       "product_category_name             signaling_and_security  small_appliances  \\\n",
       "order_id                                                                     \n",
       "00010242fe8c5a6d1ba2dd792cb16214                     0.0               0.0   \n",
       "00018f77f2f0320c557190d7a144bdd3                     0.0               0.0   \n",
       "000229ec398224ef6ca0657da4fc703e                     0.0               0.0   \n",
       "00024acbcdf0a6daa1e931b038114c75                     0.0               0.0   \n",
       "00042b26cf59d7ce69dfabb4e55b4fd9                     0.0               0.0   \n",
       "\n",
       "product_category_name             small_appliances_home_oven_and_coffee  \\\n",
       "order_id                                                                  \n",
       "00010242fe8c5a6d1ba2dd792cb16214                                      0   \n",
       "00018f77f2f0320c557190d7a144bdd3                                      0   \n",
       "000229ec398224ef6ca0657da4fc703e                                      0   \n",
       "00024acbcdf0a6daa1e931b038114c75                                      0   \n",
       "00042b26cf59d7ce69dfabb4e55b4fd9                                      0   \n",
       "\n",
       "product_category_name             sports_leisure  stationery  \\\n",
       "order_id                                                       \n",
       "00010242fe8c5a6d1ba2dd792cb16214             0.0         0.0   \n",
       "00018f77f2f0320c557190d7a144bdd3             0.0         0.0   \n",
       "000229ec398224ef6ca0657da4fc703e             0.0         0.0   \n",
       "00024acbcdf0a6daa1e931b038114c75             0.0         0.0   \n",
       "00042b26cf59d7ce69dfabb4e55b4fd9             0.0         0.0   \n",
       "\n",
       "product_category_name             tablets_printing_image  telephony  toys  \\\n",
       "order_id                                                                    \n",
       "00010242fe8c5a6d1ba2dd792cb16214                     0.0        0.0   1.0   \n",
       "00018f77f2f0320c557190d7a144bdd3                     0.0        0.0   1.0   \n",
       "000229ec398224ef6ca0657da4fc703e                     0.0        0.0   1.0   \n",
       "00024acbcdf0a6daa1e931b038114c75                     0.0        0.0   1.0   \n",
       "00042b26cf59d7ce69dfabb4e55b4fd9                     0.0        0.0   1.0   \n",
       "\n",
       "product_category_name             watches_gifts  \n",
       "order_id                                         \n",
       "00010242fe8c5a6d1ba2dd792cb16214            0.0  \n",
       "00018f77f2f0320c557190d7a144bdd3            0.0  \n",
       "000229ec398224ef6ca0657da4fc703e            0.0  \n",
       "00024acbcdf0a6daa1e931b038114c75            0.0  \n",
       "00042b26cf59d7ce69dfabb4e55b4fd9            0.0  \n",
       "\n",
       "[5 rows x 70 columns]"
      ]
     },
     "execution_count": 85,
     "metadata": {},
     "output_type": "execute_result"
    }
   ],
   "source": [
    "MBA_Data.head()"
   ]
  },
  {
   "cell_type": "code",
   "execution_count": 86,
   "id": "0972c029",
   "metadata": {
    "scrolled": false
   },
   "outputs": [
    {
     "name": "stdout",
     "output_type": "stream",
     "text": [
      "<class 'pandas.core.frame.DataFrame'>\n",
      "Index: 96477 entries, 00010242fe8c5a6d1ba2dd792cb16214 to fffe41c64501cc87c801fd61db3f6244\n",
      "Data columns (total 70 columns):\n",
      " #   Column                                   Non-Null Count  Dtype  \n",
      "---  ------                                   --------------  -----  \n",
      " 0   agro_industry_and_commerce               96477 non-null  float64\n",
      " 1   air_conditioning                         96477 non-null  float64\n",
      " 2   art                                      96477 non-null  int64  \n",
      " 3   arts_and_craftmanship                    96477 non-null  int64  \n",
      " 4   audio                                    96477 non-null  float64\n",
      " 5   auto                                     96477 non-null  float64\n",
      " 6   baby                                     96477 non-null  float64\n",
      " 7   bed_bath_table                           96477 non-null  float64\n",
      " 8   books_general_interest                   96477 non-null  float64\n",
      " 9   books_imported                           96477 non-null  float64\n",
      " 10  books_technical                          96477 non-null  float64\n",
      " 11  christmas_supplies                       96477 non-null  float64\n",
      " 12  cine_photo                               96477 non-null  int64  \n",
      " 13  computers                                96477 non-null  float64\n",
      " 14  computers_accessories                    96477 non-null  float64\n",
      " 15  consoles_games                           96477 non-null  float64\n",
      " 16  construction_tools_construction          96477 non-null  float64\n",
      " 17  construction_tools_lights                96477 non-null  float64\n",
      " 18  construction_tools_safety                96477 non-null  int64  \n",
      " 19  cool_stuff                               96477 non-null  float64\n",
      " 20  costruction_tools_garden                 96477 non-null  float64\n",
      " 21  costruction_tools_tools                  96477 non-null  float64\n",
      " 22  diapers_and_hygiene                      96477 non-null  int64  \n",
      " 23  drinks                                   96477 non-null  float64\n",
      " 24  dvds_blu_ray                             96477 non-null  float64\n",
      " 25  electronics                              96477 non-null  float64\n",
      " 26  fashio_female_clothing                   96477 non-null  int64  \n",
      " 27  fashion_bags_accessories                 96477 non-null  float64\n",
      " 28  fashion_childrens_clothes                96477 non-null  int64  \n",
      " 29  fashion_male_clothing                    96477 non-null  float64\n",
      " 30  fashion_shoes                            96477 non-null  float64\n",
      " 31  fashion_sport                            96477 non-null  int64  \n",
      " 32  fashion_underwear_beach                  96477 non-null  int64  \n",
      " 33  fixed_telephony                          96477 non-null  float64\n",
      " 34  flowers                                  96477 non-null  int64  \n",
      " 35  food                                     96477 non-null  float64\n",
      " 36  food_drink                               96477 non-null  float64\n",
      " 37  furniture_bedroom                        96477 non-null  float64\n",
      " 38  furniture_decor                          96477 non-null  float64\n",
      " 39  furniture_living_room                    96477 non-null  float64\n",
      " 40  furniture_mattress_and_upholstery        96477 non-null  int64  \n",
      " 41  garden_tools                             96477 non-null  float64\n",
      " 42  health_beauty                            96477 non-null  float64\n",
      " 43  home_appliances                          96477 non-null  float64\n",
      " 44  home_appliances_2                        96477 non-null  float64\n",
      " 45  home_comfort_2                           96477 non-null  int64  \n",
      " 46  home_confort                             96477 non-null  float64\n",
      " 47  home_construction                        96477 non-null  float64\n",
      " 48  housewares                               96477 non-null  float64\n",
      " 49  industry_commerce_and_business           96477 non-null  float64\n",
      " 50  kitchen_dining_laundry_garden_furniture  96477 non-null  float64\n",
      " 51  la_cuisine                               96477 non-null  int64  \n",
      " 52  luggage_accessories                      96477 non-null  float64\n",
      " 53  market_place                             96477 non-null  float64\n",
      " 54  music                                    96477 non-null  int64  \n",
      " 55  musical_instruments                      96477 non-null  float64\n",
      " 56  office_furniture                         96477 non-null  float64\n",
      " 57  party_supplies                           96477 non-null  int64  \n",
      " 58  perfumery                                96477 non-null  float64\n",
      " 59  pet_shop                                 96477 non-null  float64\n",
      " 60  security_and_services                    96477 non-null  int64  \n",
      " 61  signaling_and_security                   96477 non-null  float64\n",
      " 62  small_appliances                         96477 non-null  float64\n",
      " 63  small_appliances_home_oven_and_coffee    96477 non-null  int64  \n",
      " 64  sports_leisure                           96477 non-null  float64\n",
      " 65  stationery                               96477 non-null  float64\n",
      " 66  tablets_printing_image                   96477 non-null  float64\n",
      " 67  telephony                                96477 non-null  float64\n",
      " 68  toys                                     96477 non-null  float64\n",
      " 69  watches_gifts                            96477 non-null  float64\n",
      "dtypes: float64(53), int64(17)\n",
      "memory usage: 52.3+ MB\n"
     ]
    }
   ],
   "source": [
    "MBA_Data.info()"
   ]
  },
  {
   "cell_type": "code",
   "execution_count": 87,
   "id": "c77b8a98",
   "metadata": {},
   "outputs": [],
   "source": [
    "#For basket analysis converting/encoding the data to 1s and 0s \n",
    "def encode_data(x):\n",
    "    if x<=0:\n",
    "        return 0\n",
    "    if x>=1:\n",
    "        return 1\n",
    "MBA_Data_encode = MBA_Data.applymap(encode_data)"
   ]
  },
  {
   "cell_type": "code",
   "execution_count": 88,
   "id": "950c726b",
   "metadata": {},
   "outputs": [],
   "source": [
    "#Identifying the product category which are ordered more than 5 times and dropping the product category which are ordered less than 5 times\n",
    "\n",
    "for column in MBA_Data_encode.columns:\n",
    "    if (MBA_Data_encode[column].sum(axis=0, skipna=True)<=5):\n",
    "        MBA_Data_encode.drop(column, inplace=True, axis=1)\n",
    "\n"
   ]
  },
  {
   "cell_type": "code",
   "execution_count": 89,
   "id": "c5a52d82",
   "metadata": {},
   "outputs": [
    {
     "data": {
      "text/plain": [
       "(96477, 61)"
      ]
     },
     "execution_count": 89,
     "metadata": {},
     "output_type": "execute_result"
    }
   ],
   "source": [
    "MBA_Data_encode.shape"
   ]
  },
  {
   "cell_type": "markdown",
   "id": "49435cee",
   "metadata": {},
   "source": [
    "- Now we need to identify the combinations of product categories which are frequently ordered together "
   ]
  },
  {
   "cell_type": "code",
   "execution_count": 90,
   "id": "ac41ae7f",
   "metadata": {},
   "outputs": [
    {
     "data": {
      "text/html": [
       "<div>\n",
       "<style scoped>\n",
       "    .dataframe tbody tr th:only-of-type {\n",
       "        vertical-align: middle;\n",
       "    }\n",
       "\n",
       "    .dataframe tbody tr th {\n",
       "        vertical-align: top;\n",
       "    }\n",
       "\n",
       "    .dataframe thead th {\n",
       "        text-align: right;\n",
       "    }\n",
       "</style>\n",
       "<table border=\"1\" class=\"dataframe\">\n",
       "  <thead>\n",
       "    <tr style=\"text-align: right;\">\n",
       "      <th>product_category_name</th>\n",
       "      <th>agro_industry_and_commerce</th>\n",
       "      <th>air_conditioning</th>\n",
       "      <th>art</th>\n",
       "      <th>audio</th>\n",
       "      <th>auto</th>\n",
       "      <th>baby</th>\n",
       "      <th>bed_bath_table</th>\n",
       "      <th>books_general_interest</th>\n",
       "      <th>books_imported</th>\n",
       "      <th>books_technical</th>\n",
       "      <th>...</th>\n",
       "      <th>pet_shop</th>\n",
       "      <th>signaling_and_security</th>\n",
       "      <th>small_appliances</th>\n",
       "      <th>small_appliances_home_oven_and_coffee</th>\n",
       "      <th>sports_leisure</th>\n",
       "      <th>stationery</th>\n",
       "      <th>tablets_printing_image</th>\n",
       "      <th>telephony</th>\n",
       "      <th>toys</th>\n",
       "      <th>watches_gifts</th>\n",
       "    </tr>\n",
       "    <tr>\n",
       "      <th>order_id</th>\n",
       "      <th></th>\n",
       "      <th></th>\n",
       "      <th></th>\n",
       "      <th></th>\n",
       "      <th></th>\n",
       "      <th></th>\n",
       "      <th></th>\n",
       "      <th></th>\n",
       "      <th></th>\n",
       "      <th></th>\n",
       "      <th></th>\n",
       "      <th></th>\n",
       "      <th></th>\n",
       "      <th></th>\n",
       "      <th></th>\n",
       "      <th></th>\n",
       "      <th></th>\n",
       "      <th></th>\n",
       "      <th></th>\n",
       "      <th></th>\n",
       "      <th></th>\n",
       "    </tr>\n",
       "  </thead>\n",
       "  <tbody>\n",
       "    <tr>\n",
       "      <th>00337fe25a3780b3424d9ad7c5a4b35e</th>\n",
       "      <td>0</td>\n",
       "      <td>0</td>\n",
       "      <td>0</td>\n",
       "      <td>0</td>\n",
       "      <td>0</td>\n",
       "      <td>0</td>\n",
       "      <td>1</td>\n",
       "      <td>0</td>\n",
       "      <td>0</td>\n",
       "      <td>0</td>\n",
       "      <td>...</td>\n",
       "      <td>0</td>\n",
       "      <td>0</td>\n",
       "      <td>0</td>\n",
       "      <td>0</td>\n",
       "      <td>0</td>\n",
       "      <td>0</td>\n",
       "      <td>0</td>\n",
       "      <td>0</td>\n",
       "      <td>1</td>\n",
       "      <td>0</td>\n",
       "    </tr>\n",
       "    <tr>\n",
       "      <th>00946f674d880be1f188abc10ad7cf46</th>\n",
       "      <td>0</td>\n",
       "      <td>0</td>\n",
       "      <td>0</td>\n",
       "      <td>0</td>\n",
       "      <td>0</td>\n",
       "      <td>0</td>\n",
       "      <td>0</td>\n",
       "      <td>0</td>\n",
       "      <td>0</td>\n",
       "      <td>0</td>\n",
       "      <td>...</td>\n",
       "      <td>1</td>\n",
       "      <td>0</td>\n",
       "      <td>0</td>\n",
       "      <td>0</td>\n",
       "      <td>0</td>\n",
       "      <td>0</td>\n",
       "      <td>0</td>\n",
       "      <td>0</td>\n",
       "      <td>1</td>\n",
       "      <td>0</td>\n",
       "    </tr>\n",
       "    <tr>\n",
       "      <th>00bcee890eba57a9767c7b5ca12d3a1b</th>\n",
       "      <td>0</td>\n",
       "      <td>0</td>\n",
       "      <td>0</td>\n",
       "      <td>0</td>\n",
       "      <td>0</td>\n",
       "      <td>0</td>\n",
       "      <td>0</td>\n",
       "      <td>0</td>\n",
       "      <td>0</td>\n",
       "      <td>0</td>\n",
       "      <td>...</td>\n",
       "      <td>0</td>\n",
       "      <td>0</td>\n",
       "      <td>0</td>\n",
       "      <td>0</td>\n",
       "      <td>0</td>\n",
       "      <td>0</td>\n",
       "      <td>0</td>\n",
       "      <td>0</td>\n",
       "      <td>1</td>\n",
       "      <td>0</td>\n",
       "    </tr>\n",
       "    <tr>\n",
       "      <th>01144cadcf64b6427f0a6580a3033220</th>\n",
       "      <td>0</td>\n",
       "      <td>0</td>\n",
       "      <td>0</td>\n",
       "      <td>0</td>\n",
       "      <td>0</td>\n",
       "      <td>0</td>\n",
       "      <td>0</td>\n",
       "      <td>0</td>\n",
       "      <td>0</td>\n",
       "      <td>0</td>\n",
       "      <td>...</td>\n",
       "      <td>0</td>\n",
       "      <td>0</td>\n",
       "      <td>0</td>\n",
       "      <td>0</td>\n",
       "      <td>0</td>\n",
       "      <td>0</td>\n",
       "      <td>0</td>\n",
       "      <td>0</td>\n",
       "      <td>1</td>\n",
       "      <td>0</td>\n",
       "    </tr>\n",
       "    <tr>\n",
       "      <th>013a98b3a668bcef05b98898177f6923</th>\n",
       "      <td>0</td>\n",
       "      <td>0</td>\n",
       "      <td>0</td>\n",
       "      <td>0</td>\n",
       "      <td>0</td>\n",
       "      <td>0</td>\n",
       "      <td>1</td>\n",
       "      <td>0</td>\n",
       "      <td>0</td>\n",
       "      <td>0</td>\n",
       "      <td>...</td>\n",
       "      <td>0</td>\n",
       "      <td>0</td>\n",
       "      <td>0</td>\n",
       "      <td>0</td>\n",
       "      <td>0</td>\n",
       "      <td>0</td>\n",
       "      <td>0</td>\n",
       "      <td>0</td>\n",
       "      <td>1</td>\n",
       "      <td>0</td>\n",
       "    </tr>\n",
       "  </tbody>\n",
       "</table>\n",
       "<p>5 rows × 61 columns</p>\n",
       "</div>"
      ],
      "text/plain": [
       "product_category_name             agro_industry_and_commerce  \\\n",
       "order_id                                                       \n",
       "00337fe25a3780b3424d9ad7c5a4b35e                           0   \n",
       "00946f674d880be1f188abc10ad7cf46                           0   \n",
       "00bcee890eba57a9767c7b5ca12d3a1b                           0   \n",
       "01144cadcf64b6427f0a6580a3033220                           0   \n",
       "013a98b3a668bcef05b98898177f6923                           0   \n",
       "\n",
       "product_category_name             air_conditioning  art  audio  auto  baby  \\\n",
       "order_id                                                                     \n",
       "00337fe25a3780b3424d9ad7c5a4b35e                 0    0      0     0     0   \n",
       "00946f674d880be1f188abc10ad7cf46                 0    0      0     0     0   \n",
       "00bcee890eba57a9767c7b5ca12d3a1b                 0    0      0     0     0   \n",
       "01144cadcf64b6427f0a6580a3033220                 0    0      0     0     0   \n",
       "013a98b3a668bcef05b98898177f6923                 0    0      0     0     0   \n",
       "\n",
       "product_category_name             bed_bath_table  books_general_interest  \\\n",
       "order_id                                                                   \n",
       "00337fe25a3780b3424d9ad7c5a4b35e               1                       0   \n",
       "00946f674d880be1f188abc10ad7cf46               0                       0   \n",
       "00bcee890eba57a9767c7b5ca12d3a1b               0                       0   \n",
       "01144cadcf64b6427f0a6580a3033220               0                       0   \n",
       "013a98b3a668bcef05b98898177f6923               1                       0   \n",
       "\n",
       "product_category_name             books_imported  books_technical  ...  \\\n",
       "order_id                                                           ...   \n",
       "00337fe25a3780b3424d9ad7c5a4b35e               0                0  ...   \n",
       "00946f674d880be1f188abc10ad7cf46               0                0  ...   \n",
       "00bcee890eba57a9767c7b5ca12d3a1b               0                0  ...   \n",
       "01144cadcf64b6427f0a6580a3033220               0                0  ...   \n",
       "013a98b3a668bcef05b98898177f6923               0                0  ...   \n",
       "\n",
       "product_category_name             pet_shop  signaling_and_security  \\\n",
       "order_id                                                             \n",
       "00337fe25a3780b3424d9ad7c5a4b35e         0                       0   \n",
       "00946f674d880be1f188abc10ad7cf46         1                       0   \n",
       "00bcee890eba57a9767c7b5ca12d3a1b         0                       0   \n",
       "01144cadcf64b6427f0a6580a3033220         0                       0   \n",
       "013a98b3a668bcef05b98898177f6923         0                       0   \n",
       "\n",
       "product_category_name             small_appliances  \\\n",
       "order_id                                             \n",
       "00337fe25a3780b3424d9ad7c5a4b35e                 0   \n",
       "00946f674d880be1f188abc10ad7cf46                 0   \n",
       "00bcee890eba57a9767c7b5ca12d3a1b                 0   \n",
       "01144cadcf64b6427f0a6580a3033220                 0   \n",
       "013a98b3a668bcef05b98898177f6923                 0   \n",
       "\n",
       "product_category_name             small_appliances_home_oven_and_coffee  \\\n",
       "order_id                                                                  \n",
       "00337fe25a3780b3424d9ad7c5a4b35e                                      0   \n",
       "00946f674d880be1f188abc10ad7cf46                                      0   \n",
       "00bcee890eba57a9767c7b5ca12d3a1b                                      0   \n",
       "01144cadcf64b6427f0a6580a3033220                                      0   \n",
       "013a98b3a668bcef05b98898177f6923                                      0   \n",
       "\n",
       "product_category_name             sports_leisure  stationery  \\\n",
       "order_id                                                       \n",
       "00337fe25a3780b3424d9ad7c5a4b35e               0           0   \n",
       "00946f674d880be1f188abc10ad7cf46               0           0   \n",
       "00bcee890eba57a9767c7b5ca12d3a1b               0           0   \n",
       "01144cadcf64b6427f0a6580a3033220               0           0   \n",
       "013a98b3a668bcef05b98898177f6923               0           0   \n",
       "\n",
       "product_category_name             tablets_printing_image  telephony  toys  \\\n",
       "order_id                                                                    \n",
       "00337fe25a3780b3424d9ad7c5a4b35e                       0          0     1   \n",
       "00946f674d880be1f188abc10ad7cf46                       0          0     1   \n",
       "00bcee890eba57a9767c7b5ca12d3a1b                       0          0     1   \n",
       "01144cadcf64b6427f0a6580a3033220                       0          0     1   \n",
       "013a98b3a668bcef05b98898177f6923                       0          0     1   \n",
       "\n",
       "product_category_name             watches_gifts  \n",
       "order_id                                         \n",
       "00337fe25a3780b3424d9ad7c5a4b35e              0  \n",
       "00946f674d880be1f188abc10ad7cf46              0  \n",
       "00bcee890eba57a9767c7b5ca12d3a1b              0  \n",
       "01144cadcf64b6427f0a6580a3033220              0  \n",
       "013a98b3a668bcef05b98898177f6923              0  \n",
       "\n",
       "[5 rows x 61 columns]"
      ]
     },
     "execution_count": 90,
     "metadata": {},
     "output_type": "execute_result"
    }
   ],
   "source": [
    "MBA_Data_encode =MBA_Data_encode[(MBA_Data_encode>0).sum(axis=1)>=2]\n",
    "MBA_Data_encode.head()"
   ]
  },
  {
   "cell_type": "markdown",
   "id": "26641371",
   "metadata": {},
   "source": [
    "### Generating frequently bought items\n",
    "\n",
    "First step in generation of association rules is to get all the frequent itemsets.Frequent itemsets are the ones which occur at least a minimum number of times in the transactions."
   ]
  },
  {
   "cell_type": "code",
   "execution_count": 91,
   "id": "268158b9",
   "metadata": {},
   "outputs": [
    {
     "data": {
      "text/html": [
       "<div>\n",
       "<style scoped>\n",
       "    .dataframe tbody tr th:only-of-type {\n",
       "        vertical-align: middle;\n",
       "    }\n",
       "\n",
       "    .dataframe tbody tr th {\n",
       "        vertical-align: top;\n",
       "    }\n",
       "\n",
       "    .dataframe thead th {\n",
       "        text-align: right;\n",
       "    }\n",
       "</style>\n",
       "<table border=\"1\" class=\"dataframe\">\n",
       "  <thead>\n",
       "    <tr style=\"text-align: right;\">\n",
       "      <th></th>\n",
       "      <th>support</th>\n",
       "      <th>itemsets</th>\n",
       "    </tr>\n",
       "  </thead>\n",
       "  <tbody>\n",
       "    <tr>\n",
       "      <th>0</th>\n",
       "      <td>0.031201</td>\n",
       "      <td>(auto)</td>\n",
       "    </tr>\n",
       "    <tr>\n",
       "      <th>1</th>\n",
       "      <td>0.230889</td>\n",
       "      <td>(bed_bath_table)</td>\n",
       "    </tr>\n",
       "    <tr>\n",
       "      <th>2</th>\n",
       "      <td>0.084243</td>\n",
       "      <td>(computers_accessories)</td>\n",
       "    </tr>\n",
       "    <tr>\n",
       "      <th>3</th>\n",
       "      <td>0.032761</td>\n",
       "      <td>(fashion_bags_accessories)</td>\n",
       "    </tr>\n",
       "    <tr>\n",
       "      <th>4</th>\n",
       "      <td>0.127145</td>\n",
       "      <td>(furniture_decor)</td>\n",
       "    </tr>\n",
       "  </tbody>\n",
       "</table>\n",
       "</div>"
      ],
      "text/plain": [
       "    support                    itemsets\n",
       "0  0.031201                      (auto)\n",
       "1  0.230889            (bed_bath_table)\n",
       "2  0.084243     (computers_accessories)\n",
       "3  0.032761  (fashion_bags_accessories)\n",
       "4  0.127145           (furniture_decor)"
      ]
     },
     "execution_count": 91,
     "metadata": {},
     "output_type": "execute_result"
    }
   ],
   "source": [
    "# Now, we need to call apriori for creating frequently bought item with support = 3%(0.03)\n",
    "\n",
    "frequent_itemlist = apriori(MBA_Data_encode, min_support=0.03, use_colnames=True)\n",
    "frequent_itemlist.head()"
   ]
  },
  {
   "cell_type": "markdown",
   "id": "cec34aef",
   "metadata": {},
   "source": [
    "We now need to create Association Rules from the frequent itemsets, identifying rules such as Confidence and Lift"
   ]
  },
  {
   "cell_type": "code",
   "execution_count": 92,
   "id": "661d5f21",
   "metadata": {
    "scrolled": false
   },
   "outputs": [
    {
     "data": {
      "text/html": [
       "<div>\n",
       "<style scoped>\n",
       "    .dataframe tbody tr th:only-of-type {\n",
       "        vertical-align: middle;\n",
       "    }\n",
       "\n",
       "    .dataframe tbody tr th {\n",
       "        vertical-align: top;\n",
       "    }\n",
       "\n",
       "    .dataframe thead th {\n",
       "        text-align: right;\n",
       "    }\n",
       "</style>\n",
       "<table border=\"1\" class=\"dataframe\">\n",
       "  <thead>\n",
       "    <tr style=\"text-align: right;\">\n",
       "      <th></th>\n",
       "      <th>antecedents</th>\n",
       "      <th>consequents</th>\n",
       "      <th>antecedent support</th>\n",
       "      <th>consequent support</th>\n",
       "      <th>support</th>\n",
       "      <th>confidence</th>\n",
       "      <th>lift</th>\n",
       "      <th>leverage</th>\n",
       "      <th>conviction</th>\n",
       "    </tr>\n",
       "  </thead>\n",
       "  <tbody>\n",
       "    <tr>\n",
       "      <th>0</th>\n",
       "      <td>(auto)</td>\n",
       "      <td>(toys)</td>\n",
       "      <td>0.031201</td>\n",
       "      <td>0.971139</td>\n",
       "      <td>0.030421</td>\n",
       "      <td>0.975000</td>\n",
       "      <td>1.003976</td>\n",
       "      <td>0.000120</td>\n",
       "      <td>1.154446</td>\n",
       "    </tr>\n",
       "    <tr>\n",
       "      <th>1</th>\n",
       "      <td>(toys)</td>\n",
       "      <td>(bed_bath_table)</td>\n",
       "      <td>0.971139</td>\n",
       "      <td>0.230889</td>\n",
       "      <td>0.226989</td>\n",
       "      <td>0.233735</td>\n",
       "      <td>1.012325</td>\n",
       "      <td>0.002764</td>\n",
       "      <td>1.003714</td>\n",
       "    </tr>\n",
       "    <tr>\n",
       "      <th>2</th>\n",
       "      <td>(bed_bath_table)</td>\n",
       "      <td>(toys)</td>\n",
       "      <td>0.230889</td>\n",
       "      <td>0.971139</td>\n",
       "      <td>0.226989</td>\n",
       "      <td>0.983108</td>\n",
       "      <td>1.012325</td>\n",
       "      <td>0.002764</td>\n",
       "      <td>1.708580</td>\n",
       "    </tr>\n",
       "    <tr>\n",
       "      <th>3</th>\n",
       "      <td>(computers_accessories)</td>\n",
       "      <td>(toys)</td>\n",
       "      <td>0.084243</td>\n",
       "      <td>0.971139</td>\n",
       "      <td>0.080343</td>\n",
       "      <td>0.953704</td>\n",
       "      <td>0.982047</td>\n",
       "      <td>-0.001469</td>\n",
       "      <td>0.623401</td>\n",
       "    </tr>\n",
       "    <tr>\n",
       "      <th>4</th>\n",
       "      <td>(fashion_bags_accessories)</td>\n",
       "      <td>(toys)</td>\n",
       "      <td>0.032761</td>\n",
       "      <td>0.971139</td>\n",
       "      <td>0.031981</td>\n",
       "      <td>0.976190</td>\n",
       "      <td>1.005202</td>\n",
       "      <td>0.000165</td>\n",
       "      <td>1.212168</td>\n",
       "    </tr>\n",
       "    <tr>\n",
       "      <th>5</th>\n",
       "      <td>(furniture_decor)</td>\n",
       "      <td>(toys)</td>\n",
       "      <td>0.127145</td>\n",
       "      <td>0.971139</td>\n",
       "      <td>0.119345</td>\n",
       "      <td>0.938650</td>\n",
       "      <td>0.966546</td>\n",
       "      <td>-0.004131</td>\n",
       "      <td>0.470437</td>\n",
       "    </tr>\n",
       "    <tr>\n",
       "      <th>6</th>\n",
       "      <td>(toys)</td>\n",
       "      <td>(furniture_decor)</td>\n",
       "      <td>0.971139</td>\n",
       "      <td>0.127145</td>\n",
       "      <td>0.119345</td>\n",
       "      <td>0.122892</td>\n",
       "      <td>0.966546</td>\n",
       "      <td>-0.004131</td>\n",
       "      <td>0.995151</td>\n",
       "    </tr>\n",
       "    <tr>\n",
       "      <th>7</th>\n",
       "      <td>(garden_tools)</td>\n",
       "      <td>(toys)</td>\n",
       "      <td>0.042122</td>\n",
       "      <td>0.971139</td>\n",
       "      <td>0.035101</td>\n",
       "      <td>0.833333</td>\n",
       "      <td>0.858099</td>\n",
       "      <td>-0.005805</td>\n",
       "      <td>0.173167</td>\n",
       "    </tr>\n",
       "    <tr>\n",
       "      <th>8</th>\n",
       "      <td>(health_beauty)</td>\n",
       "      <td>(toys)</td>\n",
       "      <td>0.066303</td>\n",
       "      <td>0.971139</td>\n",
       "      <td>0.063183</td>\n",
       "      <td>0.952941</td>\n",
       "      <td>0.981262</td>\n",
       "      <td>-0.001207</td>\n",
       "      <td>0.613300</td>\n",
       "    </tr>\n",
       "    <tr>\n",
       "      <th>9</th>\n",
       "      <td>(housewares)</td>\n",
       "      <td>(toys)</td>\n",
       "      <td>0.053822</td>\n",
       "      <td>0.971139</td>\n",
       "      <td>0.049142</td>\n",
       "      <td>0.913043</td>\n",
       "      <td>0.940178</td>\n",
       "      <td>-0.003127</td>\n",
       "      <td>0.331903</td>\n",
       "    </tr>\n",
       "    <tr>\n",
       "      <th>10</th>\n",
       "      <td>(sports_leisure)</td>\n",
       "      <td>(toys)</td>\n",
       "      <td>0.055382</td>\n",
       "      <td>0.971139</td>\n",
       "      <td>0.048362</td>\n",
       "      <td>0.873239</td>\n",
       "      <td>0.899191</td>\n",
       "      <td>-0.005422</td>\n",
       "      <td>0.227682</td>\n",
       "    </tr>\n",
       "    <tr>\n",
       "      <th>11</th>\n",
       "      <td>(watches_gifts)</td>\n",
       "      <td>(toys)</td>\n",
       "      <td>0.058502</td>\n",
       "      <td>0.971139</td>\n",
       "      <td>0.056942</td>\n",
       "      <td>0.973333</td>\n",
       "      <td>1.002260</td>\n",
       "      <td>0.000128</td>\n",
       "      <td>1.082293</td>\n",
       "    </tr>\n",
       "  </tbody>\n",
       "</table>\n",
       "</div>"
      ],
      "text/plain": [
       "                   antecedents        consequents  antecedent support  \\\n",
       "0                       (auto)             (toys)            0.031201   \n",
       "1                       (toys)   (bed_bath_table)            0.971139   \n",
       "2             (bed_bath_table)             (toys)            0.230889   \n",
       "3      (computers_accessories)             (toys)            0.084243   \n",
       "4   (fashion_bags_accessories)             (toys)            0.032761   \n",
       "5            (furniture_decor)             (toys)            0.127145   \n",
       "6                       (toys)  (furniture_decor)            0.971139   \n",
       "7               (garden_tools)             (toys)            0.042122   \n",
       "8              (health_beauty)             (toys)            0.066303   \n",
       "9                 (housewares)             (toys)            0.053822   \n",
       "10            (sports_leisure)             (toys)            0.055382   \n",
       "11             (watches_gifts)             (toys)            0.058502   \n",
       "\n",
       "    consequent support   support  confidence      lift  leverage  conviction  \n",
       "0             0.971139  0.030421    0.975000  1.003976  0.000120    1.154446  \n",
       "1             0.230889  0.226989    0.233735  1.012325  0.002764    1.003714  \n",
       "2             0.971139  0.226989    0.983108  1.012325  0.002764    1.708580  \n",
       "3             0.971139  0.080343    0.953704  0.982047 -0.001469    0.623401  \n",
       "4             0.971139  0.031981    0.976190  1.005202  0.000165    1.212168  \n",
       "5             0.971139  0.119345    0.938650  0.966546 -0.004131    0.470437  \n",
       "6             0.127145  0.119345    0.122892  0.966546 -0.004131    0.995151  \n",
       "7             0.971139  0.035101    0.833333  0.858099 -0.005805    0.173167  \n",
       "8             0.971139  0.063183    0.952941  0.981262 -0.001207    0.613300  \n",
       "9             0.971139  0.049142    0.913043  0.940178 -0.003127    0.331903  \n",
       "10            0.971139  0.048362    0.873239  0.899191 -0.005422    0.227682  \n",
       "11            0.971139  0.056942    0.973333  1.002260  0.000128    1.082293  "
      ]
     },
     "execution_count": 92,
     "metadata": {},
     "output_type": "execute_result"
    }
   ],
   "source": [
    "#We would apply association rules on frequent itemset to find product combinations. \n",
    "\n",
    "Confidence_data = association_rules(frequent_itemlist, metric=\"confidence\", min_threshold=0.1)\n",
    "Confidence_data"
   ]
  },
  {
   "cell_type": "code",
   "execution_count": 93,
   "id": "f16d6434",
   "metadata": {},
   "outputs": [
    {
     "data": {
      "text/html": [
       "<div>\n",
       "<style scoped>\n",
       "    .dataframe tbody tr th:only-of-type {\n",
       "        vertical-align: middle;\n",
       "    }\n",
       "\n",
       "    .dataframe tbody tr th {\n",
       "        vertical-align: top;\n",
       "    }\n",
       "\n",
       "    .dataframe thead th {\n",
       "        text-align: right;\n",
       "    }\n",
       "</style>\n",
       "<table border=\"1\" class=\"dataframe\">\n",
       "  <thead>\n",
       "    <tr style=\"text-align: right;\">\n",
       "      <th></th>\n",
       "      <th>antecedents</th>\n",
       "      <th>consequents</th>\n",
       "      <th>antecedent support</th>\n",
       "      <th>consequent support</th>\n",
       "      <th>support</th>\n",
       "      <th>confidence</th>\n",
       "      <th>lift</th>\n",
       "      <th>leverage</th>\n",
       "      <th>conviction</th>\n",
       "    </tr>\n",
       "  </thead>\n",
       "  <tbody>\n",
       "    <tr>\n",
       "      <th>0</th>\n",
       "      <td>(auto)</td>\n",
       "      <td>(toys)</td>\n",
       "      <td>0.031201</td>\n",
       "      <td>0.971139</td>\n",
       "      <td>0.030421</td>\n",
       "      <td>0.975000</td>\n",
       "      <td>1.003976</td>\n",
       "      <td>0.000120</td>\n",
       "      <td>1.154446</td>\n",
       "    </tr>\n",
       "    <tr>\n",
       "      <th>1</th>\n",
       "      <td>(toys)</td>\n",
       "      <td>(bed_bath_table)</td>\n",
       "      <td>0.971139</td>\n",
       "      <td>0.230889</td>\n",
       "      <td>0.226989</td>\n",
       "      <td>0.233735</td>\n",
       "      <td>1.012325</td>\n",
       "      <td>0.002764</td>\n",
       "      <td>1.003714</td>\n",
       "    </tr>\n",
       "    <tr>\n",
       "      <th>2</th>\n",
       "      <td>(bed_bath_table)</td>\n",
       "      <td>(toys)</td>\n",
       "      <td>0.230889</td>\n",
       "      <td>0.971139</td>\n",
       "      <td>0.226989</td>\n",
       "      <td>0.983108</td>\n",
       "      <td>1.012325</td>\n",
       "      <td>0.002764</td>\n",
       "      <td>1.708580</td>\n",
       "    </tr>\n",
       "    <tr>\n",
       "      <th>4</th>\n",
       "      <td>(fashion_bags_accessories)</td>\n",
       "      <td>(toys)</td>\n",
       "      <td>0.032761</td>\n",
       "      <td>0.971139</td>\n",
       "      <td>0.031981</td>\n",
       "      <td>0.976190</td>\n",
       "      <td>1.005202</td>\n",
       "      <td>0.000165</td>\n",
       "      <td>1.212168</td>\n",
       "    </tr>\n",
       "    <tr>\n",
       "      <th>11</th>\n",
       "      <td>(watches_gifts)</td>\n",
       "      <td>(toys)</td>\n",
       "      <td>0.058502</td>\n",
       "      <td>0.971139</td>\n",
       "      <td>0.056942</td>\n",
       "      <td>0.973333</td>\n",
       "      <td>1.002260</td>\n",
       "      <td>0.000128</td>\n",
       "      <td>1.082293</td>\n",
       "    </tr>\n",
       "  </tbody>\n",
       "</table>\n",
       "</div>"
      ],
      "text/plain": [
       "                   antecedents       consequents  antecedent support  \\\n",
       "0                       (auto)            (toys)            0.031201   \n",
       "1                       (toys)  (bed_bath_table)            0.971139   \n",
       "2             (bed_bath_table)            (toys)            0.230889   \n",
       "4   (fashion_bags_accessories)            (toys)            0.032761   \n",
       "11             (watches_gifts)            (toys)            0.058502   \n",
       "\n",
       "    consequent support   support  confidence      lift  leverage  conviction  \n",
       "0             0.971139  0.030421    0.975000  1.003976  0.000120    1.154446  \n",
       "1             0.230889  0.226989    0.233735  1.012325  0.002764    1.003714  \n",
       "2             0.971139  0.226989    0.983108  1.012325  0.002764    1.708580  \n",
       "4             0.971139  0.031981    0.976190  1.005202  0.000165    1.212168  \n",
       "11            0.971139  0.056942    0.973333  1.002260  0.000128    1.082293  "
      ]
     },
     "execution_count": 93,
     "metadata": {},
     "output_type": "execute_result"
    }
   ],
   "source": [
    "Lift_data=Confidence_data[(Confidence_data['lift'] > 1)]\n",
    "Lift_data"
   ]
  },
  {
   "cell_type": "markdown",
   "id": "5a25ff97",
   "metadata": {},
   "source": [
    "#### Extracting the markest basket data to be visualized\n"
   ]
  },
  {
   "cell_type": "code",
   "execution_count": 94,
   "id": "796e8339",
   "metadata": {},
   "outputs": [],
   "source": [
    "frequent_itemlist[\"itemsets\"] = frequent_itemlist[\"itemsets\"].apply(lambda x: ', '.join(list(x))).astype(\"unicode\")"
   ]
  },
  {
   "cell_type": "code",
   "execution_count": 95,
   "id": "ab28ced9",
   "metadata": {},
   "outputs": [],
   "source": [
    "Confidence_data[\"antecedents\"] = Confidence_data[\"antecedents\"].apply(lambda x: ', '.join(list(x))).astype(\"unicode\")"
   ]
  },
  {
   "cell_type": "code",
   "execution_count": 96,
   "id": "21f35585",
   "metadata": {},
   "outputs": [],
   "source": [
    "Confidence_data[\"consequents\"] = Confidence_data[\"consequents\"].apply(lambda x: ', '.join(list(x))).astype(\"unicode\")"
   ]
  },
  {
   "cell_type": "code",
   "execution_count": 97,
   "id": "73ebd927",
   "metadata": {},
   "outputs": [],
   "source": [
    "Lift_data[\"antecedents\"] = Lift_data[\"antecedents\"].apply(lambda x: ', '.join(list(x))).astype(\"unicode\")"
   ]
  },
  {
   "cell_type": "code",
   "execution_count": 98,
   "id": "e9b50778",
   "metadata": {},
   "outputs": [],
   "source": [
    "Lift_data[\"consequents\"] = Lift_data[\"consequents\"].apply(lambda x: ', '.join(list(x))).astype(\"unicode\") "
   ]
  },
  {
   "cell_type": "code",
   "execution_count": 99,
   "id": "2e5de3fb",
   "metadata": {},
   "outputs": [],
   "source": [
    "with pd.ExcelWriter(r\"C:\\Users\\Shivkumar Pujari\\Downloads\\Market_basket_Datset.xlsx\") as excel_sheets:    \n",
    "    frequent_itemlist.to_excel(excel_sheets, sheet_name=\"support\", index=False)\n",
    "    Confidence_data.to_excel(excel_sheets, sheet_name=\"confidence\", index=False)\n",
    "    Lift_data.to_excel(excel_sheets, sheet_name=\"lift\", index=False)"
   ]
  },
  {
   "cell_type": "code",
   "execution_count": null,
   "id": "92caf1b1",
   "metadata": {},
   "outputs": [],
   "source": []
  }
 ],
 "metadata": {
  "kernelspec": {
   "display_name": "Python 3",
   "language": "python",
   "name": "python3"
  },
  "language_info": {
   "codemirror_mode": {
    "name": "ipython",
    "version": 3
   },
   "file_extension": ".py",
   "mimetype": "text/x-python",
   "name": "python",
   "nbconvert_exporter": "python",
   "pygments_lexer": "ipython3",
   "version": "3.8.8"
  }
 },
 "nbformat": 4,
 "nbformat_minor": 5
}
